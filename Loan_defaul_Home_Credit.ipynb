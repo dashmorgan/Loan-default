{
 "cells": [
  {
   "cell_type": "markdown",
   "metadata": {},
   "source": [
    "# Home Credit Default Risk\n",
    "This project focused on applying supervised learning classification algorithms to predict loan defaults."
   ]
  },
  {
   "cell_type": "markdown",
   "metadata": {},
   "source": [
    "The dataset for this project can be found [here](https://www.kaggle.com/c/home-credit-default-risk)<br>\n",
    "**Data Description/scheme:**<br>\n",
    "![](https://storage.googleapis.com/kaggle-media/competitions/home-credit/home_credit.png)\n"
   ]
  },
  {
   "attachments": {},
   "cell_type": "markdown",
   "metadata": {},
   "source": [
    "## Notebook navigation:\n",
    "### [Exploratory analysis (feature engineering and visualization)](#Exploretary-analysis)\n",
    "- **[Application table](#Application-table):**\n",
    "_Information about loan and loan applicant, target value (default/no default) distribution_\n",
    "- **[Bureau balance table](#Bureau-balance-table):** _client's previous credits provided by other financial institutions (features created)_\n",
    "- **[Cash loan balance](#Cash-loan-balance):** _Monthly balance snapshots of previous POS (point of sales) and cash loans_\n",
    "- **[Credit card balance table](#Credit-card-balance-table):** _Monthly balance snapshots of previous credit cards that the applicant has with Home Credit_\n",
    "- **[Prev applications with the bank](#Prev-applications-with-the-bank):** _All previous applications for Home Credit loans of clients who have loans in these data set_\n",
    "- **[Installments payments table](#Installments-payments-table):** _Repayment history for the previously disbursed credits in Home Credit_\n",
    "\n",
    "### [Analysis, modeling](#Analysis,-modeling)\n",
    "- **[Logistic regression](#Logistic-regression)**\n",
    "- **[Random forest](#Random-forest)**\n",
    "- **[XGBoost](#XGBoost)**\n",
    "- **[Model comparison (ROC curve)](#Model-comparison-(ROC-curve))**"
   ]
  },
  {
   "cell_type": "code",
   "execution_count": 8,
   "metadata": {},
   "outputs": [],
   "source": [
    "import pandas as pd\n",
    "import numpy as np\n",
    "import matplotlib.pyplot as plt\n",
    "import seaborn as sns\n",
    "from sklearn.linear_model import LogisticRegression\n",
    "from sklearn.model_selection import train_test_split\n",
    "sns.set(style='white')\n",
    "\n",
    "import warnings\n",
    "\n",
    "from sklearn.metrics import f1_score\n",
    "from sklearn.metrics import confusion_matrix\n",
    "from sklearn.metrics import roc_auc_score\n",
    "\n",
    "import psycopg2 as pg\n",
    "import pandas.io.sql as pd_sql\n",
    "import statistics"
   ]
  },
  {
   "cell_type": "code",
   "execution_count": 2,
   "metadata": {},
   "outputs": [],
   "source": [
    "from sklearn.metrics import precision_score, recall_score, accuracy_score\n",
    "from sklearn.metrics import roc_curve\n",
    "from sklearn.ensemble import RandomForestClassifier"
   ]
  },
  {
   "cell_type": "code",
   "execution_count": 133,
   "metadata": {},
   "outputs": [],
   "source": [
    "# I store my data on AWS\n",
    "## tables were created with postgre_sql\n",
    "\n",
    "connection_args = {\n",
    "    'host': '....', # IP on AWS\n",
    "    'user': 'ubuntu',    \n",
    "    'dbname': 'credit',   # name of database \n",
    "    'port': 5432          \n",
    "}\n",
    "\n",
    "\n",
    "connection = pg.connect(**connection_args)"
   ]
  },
  {
   "cell_type": "markdown",
   "metadata": {},
   "source": [
    "## Exploretary analysis"
   ]
  },
  {
   "cell_type": "markdown",
   "metadata": {},
   "source": [
    "#### Application table"
   ]
  },
  {
   "cell_type": "code",
   "execution_count": 4,
   "metadata": {},
   "outputs": [],
   "source": [
    "query = (\"SELECT SK_ID_CURR, TARGET, NAME_CONTRACT_TYPE, FLAG_OWN_CAR, FLAG_OWN_REALTY, CNT_CHILDREN, \\\n",
    "                AMT_INCOME_TOTAL, AMT_CREDIT, AMT_ANNUITY, NAME_TYPE_SUITE, NAME_INCOME_TYPE, \\\n",
    "                NAME_EDUCATION_TYPE, NAME_FAMILY_STATUS, NAME_HOUSING_TYPE, REGION_POPULATION_RELATIVE, \\\n",
    "                DAYS_BIRTH, DAYS_EMPLOYED, DAYS_REGISTRATION, DAYS_ID_PUBLISH, FLAG_MOBIL, \\\n",
    "                FLAG_EMP_PHONE, FLAG_WORK_PHONE, FLAG_CONT_MOBILE, FLAG_PHONE, FLAG_EMAIL, \\\n",
    "                OCCUPATION_TYPE, CNT_FAM_MEMBERS, EXT_SOURCE_1, EXT_SOURCE_2, EXT_SOURCE_3, \\\n",
    "                DAYS_LAST_PHONE_CHANGE, AMT_REQ_CREDIT_BUREAU_DAY \\\n",
    "FROM application;\")\n",
    "\n",
    "df = pd_sql.read_sql(query, connection)"
   ]
  },
  {
   "cell_type": "code",
   "execution_count": 5,
   "metadata": {},
   "outputs": [
    {
     "name": "stdout",
     "output_type": "stream",
     "text": [
      "<class 'pandas.core.frame.DataFrame'>\n",
      "RangeIndex: 307511 entries, 0 to 307510\n",
      "Data columns (total 32 columns):\n",
      "sk_id_curr                    307511 non-null int64\n",
      "target                        307511 non-null int64\n",
      "name_contract_type            307511 non-null object\n",
      "flag_own_car                  307511 non-null object\n",
      "flag_own_realty               307511 non-null object\n",
      "cnt_children                  307511 non-null int64\n",
      "amt_income_total              307511 non-null float64\n",
      "amt_credit                    307511 non-null float64\n",
      "amt_annuity                   307499 non-null float64\n",
      "name_type_suite               306219 non-null object\n",
      "name_income_type              307511 non-null object\n",
      "name_education_type           307511 non-null object\n",
      "name_family_status            307511 non-null object\n",
      "name_housing_type             307511 non-null object\n",
      "region_population_relative    307511 non-null float64\n",
      "days_birth                    307511 non-null int64\n",
      "days_employed                 307511 non-null int64\n",
      "days_registration             307511 non-null float64\n",
      "days_id_publish               307511 non-null int64\n",
      "flag_mobil                    307511 non-null int64\n",
      "flag_emp_phone                307511 non-null int64\n",
      "flag_work_phone               307511 non-null int64\n",
      "flag_cont_mobile              307511 non-null int64\n",
      "flag_phone                    307511 non-null int64\n",
      "flag_email                    307511 non-null int64\n",
      "occupation_type               211120 non-null object\n",
      "cnt_fam_members               307509 non-null float64\n",
      "ext_source_1                  134133 non-null float64\n",
      "ext_source_2                  306851 non-null float64\n",
      "ext_source_3                  246546 non-null float64\n",
      "days_last_phone_change        307510 non-null float64\n",
      "amt_req_credit_bureau_day     265992 non-null float64\n",
      "dtypes: float64(11), int64(12), object(9)\n",
      "memory usage: 75.1+ MB\n"
     ]
    }
   ],
   "source": [
    "# After going through file with columns' descriptions and guidence from owners of the data set \n",
    "# I decided to choose only several features/columns (not all) that I think make more sense for the analysis\n",
    "\n",
    "df.info()"
   ]
  },
  {
   "cell_type": "code",
   "execution_count": 6,
   "metadata": {
    "scrolled": true
   },
   "outputs": [
    {
     "data": {
      "text/plain": [
       "0    0.919271\n",
       "1    0.080729\n",
       "Name: target, dtype: float64"
      ]
     },
     "execution_count": 6,
     "metadata": {},
     "output_type": "execute_result"
    }
   ],
   "source": [
    "# Target variable is whether client: 0 - didn't default on a loan or 1 - default (had payment difficulties)\n",
    "target_distribution = df.target.value_counts(normalize=True)\n",
    "target_distribution"
   ]
  },
  {
   "cell_type": "code",
   "execution_count": 137,
   "metadata": {},
   "outputs": [
    {
     "data": {
      "image/png": "[encoded data removed]",
      "text/plain": [
       "<Figure size 600x400 with 1 Axes>"
      ]
     },
     "metadata": {},
     "output_type": "display_data"
    }
   ],
   "source": [
    "# Target value distribution - class imbalace, that will be handeled later in the analysis \n",
    "\n",
    "plt.figure(dpi=100)\n",
    "target_distribution.plot(kind='bar')\n",
    "plt.xticks([0,1],['0 - No Default', '1 - Default'], rotation=0)\n",
    "plt.grid(b=False)\n",
    "plt.title('Target value distribution', fontsize=25, fontweight='bold');"
   ]
  },
  {
   "cell_type": "code",
   "execution_count": 10,
   "metadata": {},
   "outputs": [
    {
     "data": {
      "text/plain": [
       "1688          25650.0\n",
       "20759         25650.0\n",
       "246121        26100.0\n",
       "240140        26100.0\n",
       "186657        26100.0\n",
       "             ...     \n",
       "131140      6750000.0\n",
       "77778       9000000.0\n",
       "246880     13500000.0\n",
       "203729     18000090.0\n",
       "12880     117000000.0\n",
       "Name: amt_income_total, Length: 307511, dtype: float64"
      ]
     },
     "execution_count": 10,
     "metadata": {},
     "output_type": "execute_result"
    }
   ],
   "source": [
    "df.amt_income_total.sort_values()"
   ]
  },
  {
   "cell_type": "code",
   "execution_count": 11,
   "metadata": {},
   "outputs": [
    {
     "data": {
      "text/html": [
       "<div>\n",
       "<style scoped>\n",
       "    .dataframe tbody tr th:only-of-type {\n",
       "        vertical-align: middle;\n",
       "    }\n",
       "\n",
       "    .dataframe tbody tr th {\n",
       "        vertical-align: top;\n",
       "    }\n",
       "\n",
       "    .dataframe thead th {\n",
       "        text-align: right;\n",
       "    }\n",
       "</style>\n",
       "<table border=\"1\" class=\"dataframe\">\n",
       "  <thead>\n",
       "    <tr style=\"text-align: right;\">\n",
       "      <th></th>\n",
       "      <th>sk_id_curr</th>\n",
       "      <th>target</th>\n",
       "      <th>name_contract_type</th>\n",
       "      <th>flag_own_car</th>\n",
       "      <th>flag_own_realty</th>\n",
       "      <th>cnt_children</th>\n",
       "      <th>amt_income_total</th>\n",
       "      <th>amt_credit</th>\n",
       "      <th>amt_annuity</th>\n",
       "      <th>name_type_suite</th>\n",
       "      <th>...</th>\n",
       "      <th>flag_cont_mobile</th>\n",
       "      <th>flag_phone</th>\n",
       "      <th>flag_email</th>\n",
       "      <th>occupation_type</th>\n",
       "      <th>cnt_fam_members</th>\n",
       "      <th>ext_source_1</th>\n",
       "      <th>ext_source_2</th>\n",
       "      <th>ext_source_3</th>\n",
       "      <th>days_last_phone_change</th>\n",
       "      <th>amt_req_credit_bureau_day</th>\n",
       "    </tr>\n",
       "  </thead>\n",
       "  <tbody>\n",
       "    <tr>\n",
       "      <th>246880</th>\n",
       "      <td>385674</td>\n",
       "      <td>0</td>\n",
       "      <td>Cash loans</td>\n",
       "      <td>Y</td>\n",
       "      <td>Y</td>\n",
       "      <td>0</td>\n",
       "      <td>13500000.0</td>\n",
       "      <td>1400503.5</td>\n",
       "      <td>130945.5</td>\n",
       "      <td>Unaccompanied</td>\n",
       "      <td>...</td>\n",
       "      <td>1</td>\n",
       "      <td>0</td>\n",
       "      <td>0</td>\n",
       "      <td>None</td>\n",
       "      <td>2.0</td>\n",
       "      <td>NaN</td>\n",
       "      <td>0.713507</td>\n",
       "      <td>NaN</td>\n",
       "      <td>-13.0</td>\n",
       "      <td>NaN</td>\n",
       "    </tr>\n",
       "  </tbody>\n",
       "</table>\n",
       "<p>1 rows × 32 columns</p>\n",
       "</div>"
      ],
      "text/plain": [
       "        sk_id_curr  target name_contract_type flag_own_car flag_own_realty  \\\n",
       "246880      385674       0         Cash loans            Y               Y   \n",
       "\n",
       "        cnt_children  amt_income_total  amt_credit  amt_annuity  \\\n",
       "246880             0        13500000.0   1400503.5     130945.5   \n",
       "\n",
       "       name_type_suite  ... flag_cont_mobile flag_phone flag_email  \\\n",
       "246880   Unaccompanied  ...                1          0          0   \n",
       "\n",
       "       occupation_type  cnt_fam_members  ext_source_1  ext_source_2  \\\n",
       "246880            None              2.0           NaN      0.713507   \n",
       "\n",
       "        ext_source_3  days_last_phone_change  amt_req_credit_bureau_day  \n",
       "246880           NaN                   -13.0                        NaN  \n",
       "\n",
       "[1 rows x 32 columns]"
      ]
     },
     "execution_count": 11,
     "metadata": {},
     "output_type": "execute_result"
    }
   ],
   "source": [
    "# last few incomes seem plausble, but will exclude from the data, since it might be potential outliers\n",
    "##as well as 117000000.0, which is clercal mistake (noted by data owners)\n",
    "df[df.index == 246880]"
   ]
  },
  {
   "cell_type": "code",
   "execution_count": 12,
   "metadata": {},
   "outputs": [],
   "source": [
    "df.drop([246880, 203729, 12880], axis=0, inplace=True)"
   ]
  },
  {
   "cell_type": "code",
   "execution_count": 58,
   "metadata": {},
   "outputs": [
    {
     "data": {
      "image/png": "[encoded data removed]",
      "text/plain": [
       "<Figure size 800x480 with 1 Axes>"
      ]
     },
     "metadata": {},
     "output_type": "display_data"
    }
   ],
   "source": [
    "# Distribution of income, large values were excluded\n",
    "\n",
    "plt.figure(figsize=(10,6),dpi=80);\n",
    "sns.distplot(df[df['amt_income_total']<1500000].amt_income_total, bins=100, norm_hist=True);\n",
    "plt.xlabel('Income, MM');"
   ]
  },
  {
   "cell_type": "code",
   "execution_count": 59,
   "metadata": {},
   "outputs": [],
   "source": [
    "#creating feature Debt to income ratio\n",
    "#as annuity (month) / income (month)\n",
    "df['DTI_ratio'] = df['amt_annuity'] / df['amt_income_total']"
   ]
  },
  {
   "cell_type": "code",
   "execution_count": 60,
   "metadata": {},
   "outputs": [
    {
     "data": {
      "text/plain": [
       "20759     1.875965\n",
       "197696    1.570600\n",
       "247636    1.451571\n",
       "226157    1.393300\n",
       "82        1.373917\n",
       "205615    1.350750\n",
       "35812     1.301500\n",
       "293609    1.290231\n",
       "200917    1.282667\n",
       "173572    1.197667\n",
       "Name: DTI_ratio, dtype: float64"
      ]
     },
     "execution_count": 60,
     "metadata": {},
     "output_type": "execute_result"
    }
   ],
   "source": [
    "df['DTI_ratio'].sort_values(ascending=False).head(10)"
   ]
  },
  {
   "cell_type": "code",
   "execution_count": 61,
   "metadata": {
    "scrolled": true
   },
   "outputs": [
    {
     "data": {
      "text/html": [
       "<div>\n",
       "<style scoped>\n",
       "    .dataframe tbody tr th:only-of-type {\n",
       "        vertical-align: middle;\n",
       "    }\n",
       "\n",
       "    .dataframe tbody tr th {\n",
       "        vertical-align: top;\n",
       "    }\n",
       "\n",
       "    .dataframe thead th {\n",
       "        text-align: right;\n",
       "    }\n",
       "</style>\n",
       "<table border=\"1\" class=\"dataframe\">\n",
       "  <thead>\n",
       "    <tr style=\"text-align: right;\">\n",
       "      <th></th>\n",
       "      <th>sk_id_curr</th>\n",
       "      <th>target</th>\n",
       "      <th>name_contract_type</th>\n",
       "      <th>flag_own_car</th>\n",
       "      <th>flag_own_realty</th>\n",
       "      <th>cnt_children</th>\n",
       "      <th>amt_income_total</th>\n",
       "      <th>amt_credit</th>\n",
       "      <th>amt_annuity</th>\n",
       "      <th>name_type_suite</th>\n",
       "      <th>...</th>\n",
       "      <th>flag_phone</th>\n",
       "      <th>flag_email</th>\n",
       "      <th>occupation_type</th>\n",
       "      <th>cnt_fam_members</th>\n",
       "      <th>ext_source_1</th>\n",
       "      <th>ext_source_2</th>\n",
       "      <th>ext_source_3</th>\n",
       "      <th>days_last_phone_change</th>\n",
       "      <th>amt_req_credit_bureau_day</th>\n",
       "      <th>DTI_ratio</th>\n",
       "    </tr>\n",
       "  </thead>\n",
       "  <tbody>\n",
       "    <tr>\n",
       "      <th>205615</th>\n",
       "      <td>338291</td>\n",
       "      <td>1</td>\n",
       "      <td>Cash loans</td>\n",
       "      <td>N</td>\n",
       "      <td>N</td>\n",
       "      <td>0</td>\n",
       "      <td>36000.0</td>\n",
       "      <td>1223010.0</td>\n",
       "      <td>48627.0</td>\n",
       "      <td>Family</td>\n",
       "      <td>...</td>\n",
       "      <td>0</td>\n",
       "      <td>0</td>\n",
       "      <td>None</td>\n",
       "      <td>2.0</td>\n",
       "      <td>NaN</td>\n",
       "      <td>0.747107</td>\n",
       "      <td>NaN</td>\n",
       "      <td>0.0</td>\n",
       "      <td>NaN</td>\n",
       "      <td>1.35075</td>\n",
       "    </tr>\n",
       "  </tbody>\n",
       "</table>\n",
       "<p>1 rows × 33 columns</p>\n",
       "</div>"
      ],
      "text/plain": [
       "        sk_id_curr  target name_contract_type flag_own_car flag_own_realty  \\\n",
       "205615      338291       1         Cash loans            N               N   \n",
       "\n",
       "        cnt_children  amt_income_total  amt_credit  amt_annuity  \\\n",
       "205615             0           36000.0   1223010.0      48627.0   \n",
       "\n",
       "       name_type_suite  ... flag_phone flag_email occupation_type  \\\n",
       "205615          Family  ...          0          0            None   \n",
       "\n",
       "       cnt_fam_members  ext_source_1  ext_source_2  ext_source_3  \\\n",
       "205615             2.0           NaN      0.747107           NaN   \n",
       "\n",
       "        days_last_phone_change  amt_req_credit_bureau_day  DTI_ratio  \n",
       "205615                     0.0                        NaN    1.35075  \n",
       "\n",
       "[1 rows x 33 columns]"
      ]
     },
     "execution_count": 61,
     "metadata": {},
     "output_type": "execute_result"
    }
   ],
   "source": [
    "df[df.index == 205615]"
   ]
  },
  {
   "cell_type": "code",
   "execution_count": 62,
   "metadata": {
    "scrolled": true
   },
   "outputs": [
    {
     "data": {
      "text/plain": [
       "0         -9461\n",
       "1        -16765\n",
       "2        -19046\n",
       "3        -19005\n",
       "4        -19932\n",
       "          ...  \n",
       "307506    -9327\n",
       "307507   -20775\n",
       "307508   -14966\n",
       "307509   -11961\n",
       "307510   -16856\n",
       "Name: days_birth, Length: 307508, dtype: int64"
      ]
     },
     "execution_count": 62,
     "metadata": {},
     "output_type": "execute_result"
    }
   ],
   "source": [
    "# age of a client is presented in days at the time of application\n",
    "## for the analysis convert it into the years, as well as check for any inconsistances/errors\n",
    "\n",
    "df['days_birth']"
   ]
  },
  {
   "cell_type": "code",
   "execution_count": 63,
   "metadata": {},
   "outputs": [],
   "source": [
    "df['AGE_years'] = round(df['days_birth'] / (-365),1)"
   ]
  },
  {
   "cell_type": "code",
   "execution_count": 66,
   "metadata": {
    "scrolled": false
   },
   "outputs": [
    {
     "name": "stdout",
     "output_type": "stream",
     "text": [
      "Average Age years:  43.9\n",
      "Median Age years 43.2\n",
      "Age of the oldest client:  69.1\n",
      "Age of the youngest client:  20.5\n"
     ]
    },
    {
     "data": {
      "text/plain": [
       "235448    20.5\n",
       "35975     21.0\n",
       "65434     21.0\n",
       "186852    21.0\n",
       "137194    21.0\n",
       "          ... \n",
       "238188    69.0\n",
       "173496    69.0\n",
       "263168    69.0\n",
       "282047    69.0\n",
       "265052    69.1\n",
       "Name: AGE_years, Length: 307508, dtype: float64"
      ]
     },
     "execution_count": 66,
     "metadata": {},
     "output_type": "execute_result"
    }
   ],
   "source": [
    "print('Average Age years: ', round(df['AGE_years'].mean(),1))\n",
    "print('Median Age years', df['AGE_years'].median())\n",
    "print('Age of the oldest client: ', df['AGE_years'].max())\n",
    "print('Age of the youngest client: ', df['AGE_years'].min())\n",
    "df['AGE_years'].sort_values()"
   ]
  },
  {
   "cell_type": "code",
   "execution_count": 69,
   "metadata": {
    "scrolled": false
   },
   "outputs": [
    {
     "data": {
      "image/png": "[encoded data removed]",
      "text/plain": [
       "<Figure size 700x420 with 1 Axes>"
      ]
     },
     "metadata": {},
     "output_type": "display_data"
    }
   ],
   "source": [
    "plt.figure(figsize=(10,6),dpi=70);\n",
    "sns.distplot(df['AGE_years']);"
   ]
  },
  {
   "cell_type": "code",
   "execution_count": 70,
   "metadata": {},
   "outputs": [
    {
     "data": {
      "image/png": "[encoded data removed]",
      "text/plain": [
       "<Figure size 700x420 with 1 Axes>"
      ]
     },
     "metadata": {},
     "output_type": "display_data"
    }
   ],
   "source": [
    "# distribution of age of clients, who have difficulties with payment (default)\n",
    "## mostly 25 - 40 age group category of applicants \n",
    "plt.figure(figsize=(10,6),dpi=70);\n",
    "sns.distplot(df[df['target'] == 1]['AGE_years']);"
   ]
  },
  {
   "cell_type": "code",
   "execution_count": 72,
   "metadata": {},
   "outputs": [
    {
     "data": {
      "image/png": "[encoded data removed]",
      "text/plain": [
       "<Figure size 490x420 with 1 Axes>"
      ]
     },
     "metadata": {},
     "output_type": "display_data"
    }
   ],
   "source": [
    "# Distribution of age vs. debt to income ratio\n",
    "plt.figure(figsize=(7,6),dpi=70);\n",
    "sns.scatterplot(x=df['DTI_ratio'], y=df['AGE_years']);"
   ]
  },
  {
   "cell_type": "code",
   "execution_count": 73,
   "metadata": {},
   "outputs": [
    {
     "data": {
      "image/png": "[encoded data removed]",
      "text/plain": [
       "<Figure size 490x420 with 1 Axes>"
      ]
     },
     "metadata": {},
     "output_type": "display_data"
    }
   ],
   "source": [
    "# Distribution of age vs. debt to income ratio with DTI more then .9\n",
    "## such high DTI more common for clients that older then 50 \n",
    "### (who are most likely pansioners, who also might have savings to repay loan)\n",
    "\n",
    "plt.figure(figsize=(7,6),dpi=70);\n",
    "sns.scatterplot(x=df[df['DTI_ratio'] > .9]['DTI_ratio'], y=df['AGE_years']);"
   ]
  },
  {
   "cell_type": "code",
   "execution_count": 74,
   "metadata": {},
   "outputs": [],
   "source": [
    "#Now let's create another feature to see how many years aplicant was employed before applying\n",
    "df['DAYS_EMPLOYED_years'] = round((df['days_employed'] / -365), 1)"
   ]
  },
  {
   "cell_type": "code",
   "execution_count": 75,
   "metadata": {},
   "outputs": [
    {
     "data": {
      "text/plain": [
       "216178   -1000.7\n",
       "203883   -1000.7\n",
       "183464   -1000.7\n",
       "183467   -1000.7\n",
       "183469   -1000.7\n",
       "           ...  \n",
       "234177      48.0\n",
       "35216       48.0\n",
       "208937      48.1\n",
       "273098      48.2\n",
       "281003      49.1\n",
       "Name: DAYS_EMPLOYED_years, Length: 307508, dtype: float64"
      ]
     },
     "execution_count": 75,
     "metadata": {},
     "output_type": "execute_result"
    }
   ],
   "source": [
    "df['DAYS_EMPLOYED_years'].sort_values()"
   ]
  },
  {
   "cell_type": "code",
   "execution_count": 76,
   "metadata": {},
   "outputs": [],
   "source": [
    "#values with -1000.7 haven't been explained. (Value 365243 denotes infinity in DAYS) - by owners of the data \n",
    "##changing for 0, however, distort value counts, so I change it for small value close to 0\n",
    "df['DAYS_EMPLOYED_years'].replace({-1000.7: 0.001}, inplace=True)"
   ]
  },
  {
   "cell_type": "code",
   "execution_count": 77,
   "metadata": {},
   "outputs": [],
   "source": [
    "#creating new feature with loan term\n",
    "df['LOAN_TERM_years'] = (df['amt_credit'] / df['amt_annuity']) / 12"
   ]
  },
  {
   "cell_type": "code",
   "execution_count": 78,
   "metadata": {},
   "outputs": [
    {
     "data": {
      "text/plain": [
       "202395    3.775423\n",
       "85638     3.775168\n",
       "62215     3.774857\n",
       "45188     3.774627\n",
       "69109     3.774494\n",
       "            ...   \n",
       "123897         NaN\n",
       "207221         NaN\n",
       "227952         NaN\n",
       "239299         NaN\n",
       "241840         NaN\n",
       "Name: LOAN_TERM_years, Length: 307508, dtype: float64"
      ]
     },
     "execution_count": 78,
     "metadata": {},
     "output_type": "execute_result"
    }
   ],
   "source": [
    "df['LOAN_TERM_years'].sort_values(ascending=False)"
   ]
  },
  {
   "cell_type": "code",
   "execution_count": 79,
   "metadata": {},
   "outputs": [
    {
     "data": {
      "text/plain": [
       "Cash loans         278229\n",
       "Revolving loans     29279\n",
       "Name: name_contract_type, dtype: int64"
      ]
     },
     "execution_count": 79,
     "metadata": {},
     "output_type": "execute_result"
    }
   ],
   "source": [
    "# data represented by short term loans\n",
    "df.name_contract_type.value_counts()"
   ]
  },
  {
   "cell_type": "code",
   "execution_count": 80,
   "metadata": {},
   "outputs": [],
   "source": [
    "#change car and realty for 1 - yes, 0 - no, in case of missing values to change that to 0\n",
    "df['flag_own_car'].replace({'Y': 1, 'N': 0}, inplace=True)\n",
    "df['flag_own_realty'].replace({'Y': 1, 'N': 0}, inplace=True)"
   ]
  },
  {
   "cell_type": "code",
   "execution_count": 81,
   "metadata": {
    "scrolled": true
   },
   "outputs": [
    {
     "data": {
      "text/plain": [
       "array(['Laborers', 'Core staff', 'Accountants', 'Managers', None,\n",
       "       'Sales staff', 'Drivers', 'Cleaning staff', 'Cooking staff',\n",
       "       'Private service staff', 'Medicine staff', 'Security staff',\n",
       "       'High skill tech staff', 'Waiters/barmen staff',\n",
       "       'Low-skill Laborers', 'Realty agents', 'Secretaries', 'IT staff',\n",
       "       'HR staff'], dtype=object)"
      ]
     },
     "execution_count": 81,
     "metadata": {},
     "output_type": "execute_result"
    }
   ],
   "source": [
    "df['occupation_type'].unique()"
   ]
  },
  {
   "cell_type": "code",
   "execution_count": 89,
   "metadata": {},
   "outputs": [
    {
     "data": {
      "image/png": "[encoded data removed]",
      "text/plain": [
       "<Figure size 800x480 with 1 Axes>"
      ]
     },
     "metadata": {},
     "output_type": "display_data"
    }
   ],
   "source": [
    "plt.figure(figsize=(10,6),dpi=80);\n",
    "sns.countplot(y=df['name_education_type'], hue=df['target'])\n",
    "plt.legend(loc='center right');\n",
    "\n",
    "# Defaul on payments more likely among clients with Secondary / secondary special education type"
   ]
  },
  {
   "cell_type": "code",
   "execution_count": 131,
   "metadata": {},
   "outputs": [],
   "source": [
    "# plotting data as % of default from each category by education type\n",
    "ratios = []\n",
    "for edu_type in df['name_education_type'].unique():\n",
    "    num_default = df[(df['name_education_type'] == edu_type)&(df['target'] == 1)].name_education_type.count()\n",
    "    num_all = df[df['name_education_type'] == edu_type].name_education_type.count()\n",
    "    ratio = round((100*num_default / num_all),2)\n",
    "    ratios.append((edu_type, ratio))"
   ]
  },
  {
   "cell_type": "code",
   "execution_count": 132,
   "metadata": {},
   "outputs": [
    {
     "data": {
      "image/png": "[encoded data removed]",
      "text/plain": [
       "<Figure size 800x480 with 1 Axes>"
      ]
     },
     "metadata": {},
     "output_type": "display_data"
    }
   ],
   "source": [
    "plt.figure(figsize=(10,6),dpi=80);\n",
    "sns.barplot(y=pd.DataFrame(ratios).sort_values(1, ascending=False)[0], x=pd.DataFrame(ratios)[1], palette=\"Blues\");\n",
    "plt.ylabel('Education type');\n",
    "plt.xlabel('Ratio, %');\n",
    "plt.title('Default Ratios by Education category');"
   ]
  },
  {
   "cell_type": "code",
   "execution_count": 90,
   "metadata": {},
   "outputs": [
    {
     "data": {
      "image/png": "[encoded data removed]",
      "text/plain": [
       "<Figure size 800x480 with 1 Axes>"
      ]
     },
     "metadata": {},
     "output_type": "display_data"
    }
   ],
   "source": [
    "plt.figure(figsize=(10,6),dpi=80);\n",
    "sns.countplot(y=df['occupation_type'], hue=df['target'])\n",
    "plt.legend(loc='center right');"
   ]
  },
  {
   "cell_type": "code",
   "execution_count": 94,
   "metadata": {},
   "outputs": [
    {
     "data": {
      "image/png": "[encoded data removed]",
      "text/plain": [
       "<Figure size 800x480 with 1 Axes>"
      ]
     },
     "metadata": {},
     "output_type": "display_data"
    }
   ],
   "source": [
    "plt.figure(figsize=(10,6),dpi=80);\n",
    "sns.countplot(y=df['name_income_type'], hue=df['target'])\n",
    "plt.legend(loc='center right');"
   ]
  },
  {
   "cell_type": "code",
   "execution_count": 57,
   "metadata": {},
   "outputs": [],
   "source": [
    "#Pickle\n",
    "df.to_pickle(\"./df_application_all.pkl\")\n",
    "\n",
    "##df= pd.read_pickle(\"./df_application_all.pkl\")"
   ]
  },
  {
   "cell_type": "markdown",
   "metadata": {},
   "source": [
    "**Working with bureau data** <br>getting new features"
   ]
  },
  {
   "cell_type": "code",
   "execution_count": 134,
   "metadata": {},
   "outputs": [],
   "source": [
    "# table with information of client's previous credits provided by other financial institutions\n",
    "\n",
    "query2 = \"SELECT * FROM bureau;\"\n",
    "\n",
    "df_bur = pd_sql.read_sql(query2, connection)"
   ]
  },
  {
   "cell_type": "code",
   "execution_count": 135,
   "metadata": {
    "scrolled": true
   },
   "outputs": [
    {
     "data": {
      "text/plain": [
       "(1716428, 17)"
      ]
     },
     "execution_count": 135,
     "metadata": {},
     "output_type": "execute_result"
    }
   ],
   "source": [
    "df_bur.shape"
   ]
  },
  {
   "cell_type": "markdown",
   "metadata": {},
   "source": [
    "#### Bureau balance table"
   ]
  },
  {
   "cell_type": "code",
   "execution_count": 79,
   "metadata": {},
   "outputs": [],
   "source": [
    "# table with client's Monthly balances of previous credits in Credit Bureau\n",
    "\n",
    "query3 = \"SELECT * FROM bureau_balance;\"\n",
    "\n",
    "df_bureau_balance = pd_sql.read_sql(query3, connection)"
   ]
  },
  {
   "cell_type": "code",
   "execution_count": 80,
   "metadata": {},
   "outputs": [],
   "source": [
    "#to identify which loan is default, to make it easier, replace X (no info) and C (closed) for 0\n",
    "##I'm more interested in loans that have Days of Past Due\n",
    "df_bureau_balance.status.replace({'C': '0', 'X': '0'}, inplace=True)"
   ]
  },
  {
   "cell_type": "code",
   "execution_count": 81,
   "metadata": {
    "scrolled": true
   },
   "outputs": [
    {
     "data": {
      "text/plain": [
       "array(['0', '1', '2', '3', '5', '4'], dtype=object)"
      ]
     },
     "execution_count": 81,
     "metadata": {},
     "output_type": "execute_result"
    }
   ],
   "source": [
    "# 0: no DPD, \n",
    "# 1: max during month between 1-30 days,\n",
    "# 2: DPD 31-60 days, \n",
    "# …\n",
    "# 5: DPD 120+ days or sold or written off\n",
    "\n",
    "df_bureau_balance.status.unique()"
   ]
  },
  {
   "cell_type": "code",
   "execution_count": 82,
   "metadata": {},
   "outputs": [
    {
     "data": {
      "text/html": [
       "<div>\n",
       "<style scoped>\n",
       "    .dataframe tbody tr th:only-of-type {\n",
       "        vertical-align: middle;\n",
       "    }\n",
       "\n",
       "    .dataframe tbody tr th {\n",
       "        vertical-align: top;\n",
       "    }\n",
       "\n",
       "    .dataframe thead th {\n",
       "        text-align: right;\n",
       "    }\n",
       "</style>\n",
       "<table border=\"1\" class=\"dataframe\">\n",
       "  <thead>\n",
       "    <tr style=\"text-align: right;\">\n",
       "      <th></th>\n",
       "      <th>sk_bureau_id</th>\n",
       "      <th>months_balance</th>\n",
       "      <th>status</th>\n",
       "    </tr>\n",
       "  </thead>\n",
       "  <tbody>\n",
       "    <tr>\n",
       "      <th>0</th>\n",
       "      <td>5715448</td>\n",
       "      <td>0</td>\n",
       "      <td>0</td>\n",
       "    </tr>\n",
       "  </tbody>\n",
       "</table>\n",
       "</div>"
      ],
      "text/plain": [
       "   sk_bureau_id  months_balance status\n",
       "0       5715448               0      0"
      ]
     },
     "execution_count": 82,
     "metadata": {},
     "output_type": "execute_result"
    }
   ],
   "source": [
    "df_bureau_balance.head(1)"
   ]
  },
  {
   "cell_type": "code",
   "execution_count": 84,
   "metadata": {},
   "outputs": [],
   "source": [
    "# finding what was the max status of DPD for each client\n",
    "\n",
    "df_bureau_balance = df_bureau_balance.groupby('sk_bureau_id').agg({'status': 'max'}).reset_index()"
   ]
  },
  {
   "cell_type": "code",
   "execution_count": 85,
   "metadata": {
    "scrolled": true
   },
   "outputs": [
    {
     "data": {
      "text/plain": [
       "0    714131\n",
       "1     87055\n",
       "2      7841\n",
       "5      5214\n",
       "3      2077\n",
       "4      1077\n",
       "Name: status, dtype: int64"
      ]
     },
     "execution_count": 85,
     "metadata": {},
     "output_type": "execute_result"
    }
   ],
   "source": [
    "df_bureau_balance.status.value_counts()"
   ]
  },
  {
   "cell_type": "code",
   "execution_count": 86,
   "metadata": {
    "scrolled": true
   },
   "outputs": [
    {
     "data": {
      "text/plain": [
       "(817395, 2)"
      ]
     },
     "execution_count": 86,
     "metadata": {},
     "output_type": "execute_result"
    }
   ],
   "source": [
    "df_bureau_balance.shape"
   ]
  },
  {
   "cell_type": "code",
   "execution_count": 93,
   "metadata": {},
   "outputs": [
    {
     "data": {
      "text/plain": [
       "(1716428, 17)"
      ]
     },
     "execution_count": 93,
     "metadata": {},
     "output_type": "execute_result"
    }
   ],
   "source": [
    "df_bur.shape"
   ]
  },
  {
   "cell_type": "code",
   "execution_count": 94,
   "metadata": {},
   "outputs": [],
   "source": [
    "##merge with bureau table\n",
    "df_bureau_merged = pd.merge(df_bur, df_bureau_balance, how='left', on=['sk_bureau_id'])"
   ]
  },
  {
   "cell_type": "code",
   "execution_count": 95,
   "metadata": {},
   "outputs": [
    {
     "data": {
      "text/plain": [
       "(1716428, 18)"
      ]
     },
     "execution_count": 95,
     "metadata": {},
     "output_type": "execute_result"
    }
   ],
   "source": [
    "df_bureau_merged.shape"
   ]
  },
  {
   "cell_type": "code",
   "execution_count": 96,
   "metadata": {},
   "outputs": [
    {
     "data": {
      "text/html": [
       "<div>\n",
       "<style scoped>\n",
       "    .dataframe tbody tr th:only-of-type {\n",
       "        vertical-align: middle;\n",
       "    }\n",
       "\n",
       "    .dataframe tbody tr th {\n",
       "        vertical-align: top;\n",
       "    }\n",
       "\n",
       "    .dataframe thead th {\n",
       "        text-align: right;\n",
       "    }\n",
       "</style>\n",
       "<table border=\"1\" class=\"dataframe\">\n",
       "  <thead>\n",
       "    <tr style=\"text-align: right;\">\n",
       "      <th></th>\n",
       "      <th>sk_id_curr</th>\n",
       "      <th>sk_bureau_id</th>\n",
       "      <th>credit_active</th>\n",
       "      <th>credit_currency</th>\n",
       "      <th>days_credit</th>\n",
       "      <th>credit_day_overdue</th>\n",
       "      <th>days_credit_enddate</th>\n",
       "      <th>days_enddate_fact</th>\n",
       "      <th>amt_credit_max_overdue</th>\n",
       "      <th>cnt_credit_prolong</th>\n",
       "      <th>amt_credit_sum</th>\n",
       "      <th>amt_credit_sum_debt</th>\n",
       "      <th>amt_credit_sum_limit</th>\n",
       "      <th>amt_credit_sum_overdue</th>\n",
       "      <th>credit_type</th>\n",
       "      <th>days_credit_update</th>\n",
       "      <th>amt_annuity</th>\n",
       "      <th>status</th>\n",
       "    </tr>\n",
       "  </thead>\n",
       "  <tbody>\n",
       "    <tr>\n",
       "      <th>0</th>\n",
       "      <td>215354</td>\n",
       "      <td>5714462</td>\n",
       "      <td>Closed</td>\n",
       "      <td>currency 1</td>\n",
       "      <td>-497</td>\n",
       "      <td>0</td>\n",
       "      <td>-153.0</td>\n",
       "      <td>-153.0</td>\n",
       "      <td>NaN</td>\n",
       "      <td>0</td>\n",
       "      <td>91323.0</td>\n",
       "      <td>0.0</td>\n",
       "      <td>NaN</td>\n",
       "      <td>0.0</td>\n",
       "      <td>Consumer credit</td>\n",
       "      <td>-131</td>\n",
       "      <td>NaN</td>\n",
       "      <td>NaN</td>\n",
       "    </tr>\n",
       "    <tr>\n",
       "      <th>1</th>\n",
       "      <td>215354</td>\n",
       "      <td>5714463</td>\n",
       "      <td>Active</td>\n",
       "      <td>currency 1</td>\n",
       "      <td>-208</td>\n",
       "      <td>0</td>\n",
       "      <td>1075.0</td>\n",
       "      <td>NaN</td>\n",
       "      <td>NaN</td>\n",
       "      <td>0</td>\n",
       "      <td>225000.0</td>\n",
       "      <td>171342.0</td>\n",
       "      <td>NaN</td>\n",
       "      <td>0.0</td>\n",
       "      <td>Credit card</td>\n",
       "      <td>-20</td>\n",
       "      <td>NaN</td>\n",
       "      <td>NaN</td>\n",
       "    </tr>\n",
       "    <tr>\n",
       "      <th>2</th>\n",
       "      <td>215354</td>\n",
       "      <td>5714464</td>\n",
       "      <td>Active</td>\n",
       "      <td>currency 1</td>\n",
       "      <td>-203</td>\n",
       "      <td>0</td>\n",
       "      <td>528.0</td>\n",
       "      <td>NaN</td>\n",
       "      <td>NaN</td>\n",
       "      <td>0</td>\n",
       "      <td>464323.5</td>\n",
       "      <td>NaN</td>\n",
       "      <td>NaN</td>\n",
       "      <td>0.0</td>\n",
       "      <td>Consumer credit</td>\n",
       "      <td>-16</td>\n",
       "      <td>NaN</td>\n",
       "      <td>NaN</td>\n",
       "    </tr>\n",
       "  </tbody>\n",
       "</table>\n",
       "</div>"
      ],
      "text/plain": [
       "   sk_id_curr  sk_bureau_id credit_active credit_currency  days_credit  \\\n",
       "0      215354       5714462        Closed      currency 1         -497   \n",
       "1      215354       5714463        Active      currency 1         -208   \n",
       "2      215354       5714464        Active      currency 1         -203   \n",
       "\n",
       "   credit_day_overdue  days_credit_enddate  days_enddate_fact  \\\n",
       "0                   0               -153.0             -153.0   \n",
       "1                   0               1075.0                NaN   \n",
       "2                   0                528.0                NaN   \n",
       "\n",
       "   amt_credit_max_overdue  cnt_credit_prolong  amt_credit_sum  \\\n",
       "0                     NaN                   0         91323.0   \n",
       "1                     NaN                   0        225000.0   \n",
       "2                     NaN                   0        464323.5   \n",
       "\n",
       "   amt_credit_sum_debt  amt_credit_sum_limit  amt_credit_sum_overdue  \\\n",
       "0                  0.0                   NaN                     0.0   \n",
       "1             171342.0                   NaN                     0.0   \n",
       "2                  NaN                   NaN                     0.0   \n",
       "\n",
       "       credit_type  days_credit_update  amt_annuity status  \n",
       "0  Consumer credit                -131          NaN    NaN  \n",
       "1      Credit card                 -20          NaN    NaN  \n",
       "2  Consumer credit                 -16          NaN    NaN  "
      ]
     },
     "execution_count": 96,
     "metadata": {},
     "output_type": "execute_result"
    }
   ],
   "source": [
    "df_bureau_merged.head(3)"
   ]
  },
  {
   "cell_type": "code",
   "execution_count": 97,
   "metadata": {},
   "outputs": [],
   "source": [
    "#changing all NaN values in status column for loans that most likely didn't have any info previously\n",
    "df_bureau_merged.status.fillna('0', inplace=True)"
   ]
  },
  {
   "cell_type": "code",
   "execution_count": 98,
   "metadata": {},
   "outputs": [],
   "source": [
    "df_bureau_all = df_bureau_merged.groupby(['sk_id_curr']).agg({'sk_bureau_id': 'count',\n",
    "                                                                'days_credit': 'mean',\n",
    "                                                                'days_credit_enddate': 'mean',\n",
    "                                                                'credit_day_overdue': 'mean',\n",
    "                                                                'cnt_credit_prolong': 'mean',\n",
    "                                                                'amt_credit_max_overdue': 'mean',\n",
    "                                                                'amt_credit_sum': 'mean',\n",
    "                                                                'credit_type': lambda x:x.value_counts().index[0],\n",
    "                                                                'status': 'max'})"
   ]
  },
  {
   "cell_type": "code",
   "execution_count": 99,
   "metadata": {},
   "outputs": [
    {
     "data": {
      "text/html": [
       "<div>\n",
       "<style scoped>\n",
       "    .dataframe tbody tr th:only-of-type {\n",
       "        vertical-align: middle;\n",
       "    }\n",
       "\n",
       "    .dataframe tbody tr th {\n",
       "        vertical-align: top;\n",
       "    }\n",
       "\n",
       "    .dataframe thead th {\n",
       "        text-align: right;\n",
       "    }\n",
       "</style>\n",
       "<table border=\"1\" class=\"dataframe\">\n",
       "  <thead>\n",
       "    <tr style=\"text-align: right;\">\n",
       "      <th></th>\n",
       "      <th>sk_bureau_id</th>\n",
       "      <th>days_credit</th>\n",
       "      <th>days_credit_enddate</th>\n",
       "      <th>credit_day_overdue</th>\n",
       "      <th>cnt_credit_prolong</th>\n",
       "      <th>amt_credit_max_overdue</th>\n",
       "      <th>amt_credit_sum</th>\n",
       "      <th>credit_type</th>\n",
       "      <th>status</th>\n",
       "    </tr>\n",
       "    <tr>\n",
       "      <th>sk_id_curr</th>\n",
       "      <th></th>\n",
       "      <th></th>\n",
       "      <th></th>\n",
       "      <th></th>\n",
       "      <th></th>\n",
       "      <th></th>\n",
       "      <th></th>\n",
       "      <th></th>\n",
       "      <th></th>\n",
       "    </tr>\n",
       "  </thead>\n",
       "  <tbody>\n",
       "    <tr>\n",
       "      <th>100001</th>\n",
       "      <td>7</td>\n",
       "      <td>-735.00</td>\n",
       "      <td>82.428571</td>\n",
       "      <td>0.0</td>\n",
       "      <td>0.0</td>\n",
       "      <td>NaN</td>\n",
       "      <td>207623.571429</td>\n",
       "      <td>Consumer credit</td>\n",
       "      <td>1</td>\n",
       "    </tr>\n",
       "    <tr>\n",
       "      <th>100002</th>\n",
       "      <td>8</td>\n",
       "      <td>-874.00</td>\n",
       "      <td>-349.000000</td>\n",
       "      <td>0.0</td>\n",
       "      <td>0.0</td>\n",
       "      <td>1681.029</td>\n",
       "      <td>108131.945625</td>\n",
       "      <td>Consumer credit</td>\n",
       "      <td>1</td>\n",
       "    </tr>\n",
       "    <tr>\n",
       "      <th>100003</th>\n",
       "      <td>4</td>\n",
       "      <td>-1400.75</td>\n",
       "      <td>-544.500000</td>\n",
       "      <td>0.0</td>\n",
       "      <td>0.0</td>\n",
       "      <td>0.000</td>\n",
       "      <td>254350.125000</td>\n",
       "      <td>Consumer credit</td>\n",
       "      <td>0</td>\n",
       "    </tr>\n",
       "  </tbody>\n",
       "</table>\n",
       "</div>"
      ],
      "text/plain": [
       "            sk_bureau_id  days_credit  days_credit_enddate  \\\n",
       "sk_id_curr                                                   \n",
       "100001                 7      -735.00            82.428571   \n",
       "100002                 8      -874.00          -349.000000   \n",
       "100003                 4     -1400.75          -544.500000   \n",
       "\n",
       "            credit_day_overdue  cnt_credit_prolong  amt_credit_max_overdue  \\\n",
       "sk_id_curr                                                                   \n",
       "100001                     0.0                 0.0                     NaN   \n",
       "100002                     0.0                 0.0                1681.029   \n",
       "100003                     0.0                 0.0                   0.000   \n",
       "\n",
       "            amt_credit_sum      credit_type status  \n",
       "sk_id_curr                                          \n",
       "100001       207623.571429  Consumer credit      1  \n",
       "100002       108131.945625  Consumer credit      1  \n",
       "100003       254350.125000  Consumer credit      0  "
      ]
     },
     "execution_count": 99,
     "metadata": {},
     "output_type": "execute_result"
    }
   ],
   "source": [
    "df_bureau_all.head(3)"
   ]
  },
  {
   "cell_type": "code",
   "execution_count": 100,
   "metadata": {},
   "outputs": [],
   "source": [
    "# creating column with average term of loans, years\n",
    "df_bureau_all['avr_term_loan'] = (abs(df_bureau_all.days_credit) + abs(df_bureau_all.days_credit_enddate))/365"
   ]
  },
  {
   "cell_type": "code",
   "execution_count": 101,
   "metadata": {},
   "outputs": [],
   "source": [
    "# drop redundant columns\n",
    "df_bureau_all.drop(['days_credit', 'days_credit_enddate'], axis=1, inplace=True)"
   ]
  },
  {
   "cell_type": "code",
   "execution_count": 103,
   "metadata": {},
   "outputs": [],
   "source": [
    "df_bureau_all = df_bureau_all.reset_index()"
   ]
  },
  {
   "cell_type": "code",
   "execution_count": 105,
   "metadata": {
    "scrolled": true
   },
   "outputs": [
    {
     "data": {
      "text/html": [
       "<div>\n",
       "<style scoped>\n",
       "    .dataframe tbody tr th:only-of-type {\n",
       "        vertical-align: middle;\n",
       "    }\n",
       "\n",
       "    .dataframe tbody tr th {\n",
       "        vertical-align: top;\n",
       "    }\n",
       "\n",
       "    .dataframe thead th {\n",
       "        text-align: right;\n",
       "    }\n",
       "</style>\n",
       "<table border=\"1\" class=\"dataframe\">\n",
       "  <thead>\n",
       "    <tr style=\"text-align: right;\">\n",
       "      <th></th>\n",
       "      <th>sk_id_curr</th>\n",
       "      <th>sk_bureau_id</th>\n",
       "      <th>credit_day_overdue</th>\n",
       "      <th>cnt_credit_prolong</th>\n",
       "      <th>amt_credit_max_overdue</th>\n",
       "      <th>amt_credit_sum</th>\n",
       "      <th>credit_type</th>\n",
       "      <th>status</th>\n",
       "      <th>avr_term_loan</th>\n",
       "    </tr>\n",
       "  </thead>\n",
       "  <tbody>\n",
       "    <tr>\n",
       "      <th>0</th>\n",
       "      <td>100001</td>\n",
       "      <td>7</td>\n",
       "      <td>0.0</td>\n",
       "      <td>0.0</td>\n",
       "      <td>NaN</td>\n",
       "      <td>207623.571429</td>\n",
       "      <td>Consumer credit</td>\n",
       "      <td>1</td>\n",
       "      <td>2.239530</td>\n",
       "    </tr>\n",
       "    <tr>\n",
       "      <th>1</th>\n",
       "      <td>100002</td>\n",
       "      <td>8</td>\n",
       "      <td>0.0</td>\n",
       "      <td>0.0</td>\n",
       "      <td>1681.029</td>\n",
       "      <td>108131.945625</td>\n",
       "      <td>Consumer credit</td>\n",
       "      <td>1</td>\n",
       "      <td>3.350685</td>\n",
       "    </tr>\n",
       "    <tr>\n",
       "      <th>2</th>\n",
       "      <td>100003</td>\n",
       "      <td>4</td>\n",
       "      <td>0.0</td>\n",
       "      <td>0.0</td>\n",
       "      <td>0.000</td>\n",
       "      <td>254350.125000</td>\n",
       "      <td>Consumer credit</td>\n",
       "      <td>0</td>\n",
       "      <td>5.329452</td>\n",
       "    </tr>\n",
       "  </tbody>\n",
       "</table>\n",
       "</div>"
      ],
      "text/plain": [
       "   sk_id_curr  sk_bureau_id  credit_day_overdue  cnt_credit_prolong  \\\n",
       "0      100001             7                 0.0                 0.0   \n",
       "1      100002             8                 0.0                 0.0   \n",
       "2      100003             4                 0.0                 0.0   \n",
       "\n",
       "   amt_credit_max_overdue  amt_credit_sum      credit_type status  \\\n",
       "0                     NaN   207623.571429  Consumer credit      1   \n",
       "1                1681.029   108131.945625  Consumer credit      1   \n",
       "2                   0.000   254350.125000  Consumer credit      0   \n",
       "\n",
       "   avr_term_loan  \n",
       "0       2.239530  \n",
       "1       3.350685  \n",
       "2       5.329452  "
      ]
     },
     "execution_count": 105,
     "metadata": {},
     "output_type": "execute_result"
    }
   ],
   "source": [
    "df_bureau_all.head(3)"
   ]
  },
  {
   "cell_type": "code",
   "execution_count": 106,
   "metadata": {},
   "outputs": [
    {
     "data": {
      "text/plain": [
       "Index(['sk_id_curr', 'sk_bureau_id', 'credit_day_overdue',\n",
       "       'cnt_credit_prolong', 'amt_credit_max_overdue', 'amt_credit_sum',\n",
       "       'credit_type', 'status', 'avr_term_loan'],\n",
       "      dtype='object')"
      ]
     },
     "execution_count": 106,
     "metadata": {},
     "output_type": "execute_result"
    }
   ],
   "source": [
    "#renaming columns for later merge\n",
    "df_bureau_all.columns"
   ]
  },
  {
   "cell_type": "code",
   "execution_count": 107,
   "metadata": {},
   "outputs": [],
   "source": [
    "new_column_name = (['sk_id_curr', 'sk_bureau_id', 'bureau_avg_days_overdue',\n",
    "       'bureau_avg_cnt_prolong', 'bureau_avg_amt_max_overdue', 'bureau_avg_amt_credit',\n",
    "       'bureau_credit_type', 'bureau_max_pastdue_30_120', 'bureau_avr_term_loan'])"
   ]
  },
  {
   "cell_type": "code",
   "execution_count": 108,
   "metadata": {},
   "outputs": [],
   "source": [
    "df_bureau_all.columns = new_column_name"
   ]
  },
  {
   "cell_type": "code",
   "execution_count": 110,
   "metadata": {},
   "outputs": [
    {
     "data": {
      "text/html": [
       "<div>\n",
       "<style scoped>\n",
       "    .dataframe tbody tr th:only-of-type {\n",
       "        vertical-align: middle;\n",
       "    }\n",
       "\n",
       "    .dataframe tbody tr th {\n",
       "        vertical-align: top;\n",
       "    }\n",
       "\n",
       "    .dataframe thead th {\n",
       "        text-align: right;\n",
       "    }\n",
       "</style>\n",
       "<table border=\"1\" class=\"dataframe\">\n",
       "  <thead>\n",
       "    <tr style=\"text-align: right;\">\n",
       "      <th></th>\n",
       "      <th>sk_id_curr</th>\n",
       "      <th>sk_bureau_id</th>\n",
       "      <th>bureau_avg_days_overdue</th>\n",
       "      <th>bureau_avg_cnt_prolong</th>\n",
       "      <th>bureau_avg_amt_max_overdue</th>\n",
       "      <th>bureau_avg_amt_credit</th>\n",
       "      <th>bureau_credit_type</th>\n",
       "      <th>bureau_max_pastdue_30_120</th>\n",
       "      <th>bureau_avr_term_loan</th>\n",
       "    </tr>\n",
       "  </thead>\n",
       "  <tbody>\n",
       "    <tr>\n",
       "      <th>0</th>\n",
       "      <td>100001</td>\n",
       "      <td>7</td>\n",
       "      <td>0.0</td>\n",
       "      <td>0.0</td>\n",
       "      <td>NaN</td>\n",
       "      <td>207623.571429</td>\n",
       "      <td>Consumer credit</td>\n",
       "      <td>1</td>\n",
       "      <td>2.239530</td>\n",
       "    </tr>\n",
       "    <tr>\n",
       "      <th>1</th>\n",
       "      <td>100002</td>\n",
       "      <td>8</td>\n",
       "      <td>0.0</td>\n",
       "      <td>0.0</td>\n",
       "      <td>1681.029</td>\n",
       "      <td>108131.945625</td>\n",
       "      <td>Consumer credit</td>\n",
       "      <td>1</td>\n",
       "      <td>3.350685</td>\n",
       "    </tr>\n",
       "    <tr>\n",
       "      <th>2</th>\n",
       "      <td>100003</td>\n",
       "      <td>4</td>\n",
       "      <td>0.0</td>\n",
       "      <td>0.0</td>\n",
       "      <td>0.000</td>\n",
       "      <td>254350.125000</td>\n",
       "      <td>Consumer credit</td>\n",
       "      <td>0</td>\n",
       "      <td>5.329452</td>\n",
       "    </tr>\n",
       "  </tbody>\n",
       "</table>\n",
       "</div>"
      ],
      "text/plain": [
       "   sk_id_curr  sk_bureau_id  bureau_avg_days_overdue  bureau_avg_cnt_prolong  \\\n",
       "0      100001             7                      0.0                     0.0   \n",
       "1      100002             8                      0.0                     0.0   \n",
       "2      100003             4                      0.0                     0.0   \n",
       "\n",
       "   bureau_avg_amt_max_overdue  bureau_avg_amt_credit bureau_credit_type  \\\n",
       "0                         NaN          207623.571429    Consumer credit   \n",
       "1                    1681.029          108131.945625    Consumer credit   \n",
       "2                       0.000          254350.125000    Consumer credit   \n",
       "\n",
       "  bureau_max_pastdue_30_120  bureau_avr_term_loan  \n",
       "0                         1              2.239530  \n",
       "1                         1              3.350685  \n",
       "2                         0              5.329452  "
      ]
     },
     "execution_count": 110,
     "metadata": {},
     "output_type": "execute_result"
    }
   ],
   "source": [
    "df_bureau_all.head(3)"
   ]
  },
  {
   "cell_type": "code",
   "execution_count": 111,
   "metadata": {},
   "outputs": [],
   "source": [
    "#Pickle\n",
    "df_bureau_all.to_pickle(\"./df_bureau_all.pkl\")\n",
    "\n",
    "##df_bureau_all= pd.read_pickle(\"./df_bureau_all.pkl\")"
   ]
  },
  {
   "attachments": {},
   "cell_type": "markdown",
   "metadata": {},
   "source": [
    "#### Cash loan balance"
   ]
  },
  {
   "cell_type": "code",
   "execution_count": 113,
   "metadata": {},
   "outputs": [],
   "source": [
    "# table with client's Monthly balance snapshots of previous POS (point of sales) and cash loans with Home Credit Bank\n",
    "\n",
    "query4 = \"SELECT * FROM pos_cash;\"\n",
    "\n",
    "df_pos_cash = pd_sql.read_sql(query4, connection)"
   ]
  },
  {
   "cell_type": "code",
   "execution_count": 114,
   "metadata": {},
   "outputs": [
    {
     "data": {
      "text/html": [
       "<div>\n",
       "<style scoped>\n",
       "    .dataframe tbody tr th:only-of-type {\n",
       "        vertical-align: middle;\n",
       "    }\n",
       "\n",
       "    .dataframe tbody tr th {\n",
       "        vertical-align: top;\n",
       "    }\n",
       "\n",
       "    .dataframe thead th {\n",
       "        text-align: right;\n",
       "    }\n",
       "</style>\n",
       "<table border=\"1\" class=\"dataframe\">\n",
       "  <thead>\n",
       "    <tr style=\"text-align: right;\">\n",
       "      <th></th>\n",
       "      <th>sk_id_prev</th>\n",
       "      <th>sk_id_curr</th>\n",
       "      <th>months_balance</th>\n",
       "      <th>cnt_instalment</th>\n",
       "      <th>cnt_instalment_future</th>\n",
       "      <th>name_contract_status</th>\n",
       "      <th>sk_dpd</th>\n",
       "      <th>sk_dpd_def</th>\n",
       "    </tr>\n",
       "  </thead>\n",
       "  <tbody>\n",
       "    <tr>\n",
       "      <th>0</th>\n",
       "      <td>1803195</td>\n",
       "      <td>182943</td>\n",
       "      <td>-31</td>\n",
       "      <td>48.0</td>\n",
       "      <td>45.0</td>\n",
       "      <td>Active</td>\n",
       "      <td>0</td>\n",
       "      <td>0</td>\n",
       "    </tr>\n",
       "    <tr>\n",
       "      <th>1</th>\n",
       "      <td>1715348</td>\n",
       "      <td>367990</td>\n",
       "      <td>-33</td>\n",
       "      <td>36.0</td>\n",
       "      <td>35.0</td>\n",
       "      <td>Active</td>\n",
       "      <td>0</td>\n",
       "      <td>0</td>\n",
       "    </tr>\n",
       "    <tr>\n",
       "      <th>2</th>\n",
       "      <td>1784872</td>\n",
       "      <td>397406</td>\n",
       "      <td>-32</td>\n",
       "      <td>12.0</td>\n",
       "      <td>9.0</td>\n",
       "      <td>Active</td>\n",
       "      <td>0</td>\n",
       "      <td>0</td>\n",
       "    </tr>\n",
       "  </tbody>\n",
       "</table>\n",
       "</div>"
      ],
      "text/plain": [
       "   sk_id_prev  sk_id_curr  months_balance  cnt_instalment  \\\n",
       "0     1803195      182943             -31            48.0   \n",
       "1     1715348      367990             -33            36.0   \n",
       "2     1784872      397406             -32            12.0   \n",
       "\n",
       "   cnt_instalment_future name_contract_status  sk_dpd  sk_dpd_def  \n",
       "0                   45.0               Active       0           0  \n",
       "1                   35.0               Active       0           0  \n",
       "2                    9.0               Active       0           0  "
      ]
     },
     "execution_count": 114,
     "metadata": {},
     "output_type": "execute_result"
    }
   ],
   "source": [
    "df_pos_cash.head(3)"
   ]
  },
  {
   "cell_type": "code",
   "execution_count": 115,
   "metadata": {},
   "outputs": [],
   "source": [
    "df_pos_cash = df_pos_cash.groupby(['sk_id_prev', 'sk_id_curr']).agg({'name_contract_status': 'max',\n",
    "                                                        'sk_dpd': 'mean'}).reset_index() # avr DPD during the month of previous credit"
   ]
  },
  {
   "cell_type": "code",
   "execution_count": 116,
   "metadata": {},
   "outputs": [],
   "source": [
    "df_pos = df_pos_cash.groupby(['sk_id_curr']).agg({'sk_id_prev': 'count', # finding number of previous loan contracts\n",
    "                                                        'sk_dpd': 'max'}).reset_index()"
   ]
  },
  {
   "cell_type": "code",
   "execution_count": 125,
   "metadata": {},
   "outputs": [
    {
     "data": {
      "text/plain": [
       "Index(['sk_id_curr', 'sk_id_prev', 'sk_dpd'], dtype='object')"
      ]
     },
     "execution_count": 125,
     "metadata": {},
     "output_type": "execute_result"
    }
   ],
   "source": [
    "df_pos.columns"
   ]
  },
  {
   "cell_type": "code",
   "execution_count": 128,
   "metadata": {},
   "outputs": [],
   "source": [
    "df_pos.columns = ['sk_id_curr', 'pos_cnt_prev', 'pos_avg_dpd']"
   ]
  },
  {
   "cell_type": "code",
   "execution_count": 130,
   "metadata": {},
   "outputs": [],
   "source": [
    "#Pickle\n",
    "df_pos.to_pickle(\"./df_pos_all.pkl\")\n",
    "\n",
    "##df_pos= pd.read_pickle(\"./df_pos_all.pkl\")"
   ]
  },
  {
   "attachments": {},
   "cell_type": "markdown",
   "metadata": {},
   "source": [
    "#### Credit card balance table"
   ]
  },
  {
   "cell_type": "code",
   "execution_count": 133,
   "metadata": {},
   "outputs": [],
   "source": [
    "# Monthly balance snapshots of previous credit cards that the applicant had with Home Credit\n",
    "\n",
    "query5 = \"SELECT SK_ID_PREV, SK_ID_CURR, AMT_BALANCE, \\\n",
    "           AMT_CREDIT_LIMIT_ACTUAL, SK_DPD \\\n",
    "FROM credit_card_balance;\"\n",
    "\n",
    "df_cc_balance = pd_sql.read_sql(query5, connection)"
   ]
  },
  {
   "cell_type": "code",
   "execution_count": 134,
   "metadata": {},
   "outputs": [
    {
     "data": {
      "text/html": [
       "<div>\n",
       "<style scoped>\n",
       "    .dataframe tbody tr th:only-of-type {\n",
       "        vertical-align: middle;\n",
       "    }\n",
       "\n",
       "    .dataframe tbody tr th {\n",
       "        vertical-align: top;\n",
       "    }\n",
       "\n",
       "    .dataframe thead th {\n",
       "        text-align: right;\n",
       "    }\n",
       "</style>\n",
       "<table border=\"1\" class=\"dataframe\">\n",
       "  <thead>\n",
       "    <tr style=\"text-align: right;\">\n",
       "      <th></th>\n",
       "      <th>sk_id_prev</th>\n",
       "      <th>sk_id_curr</th>\n",
       "      <th>amt_balance</th>\n",
       "      <th>amt_credit_limit_actual</th>\n",
       "      <th>sk_dpd</th>\n",
       "    </tr>\n",
       "  </thead>\n",
       "  <tbody>\n",
       "    <tr>\n",
       "      <th>0</th>\n",
       "      <td>2562384</td>\n",
       "      <td>378907</td>\n",
       "      <td>56.970</td>\n",
       "      <td>135000.0</td>\n",
       "      <td>0</td>\n",
       "    </tr>\n",
       "    <tr>\n",
       "      <th>1</th>\n",
       "      <td>2582071</td>\n",
       "      <td>363914</td>\n",
       "      <td>63975.555</td>\n",
       "      <td>45000.0</td>\n",
       "      <td>0</td>\n",
       "    </tr>\n",
       "    <tr>\n",
       "      <th>2</th>\n",
       "      <td>1740877</td>\n",
       "      <td>371185</td>\n",
       "      <td>31815.225</td>\n",
       "      <td>450000.0</td>\n",
       "      <td>0</td>\n",
       "    </tr>\n",
       "  </tbody>\n",
       "</table>\n",
       "</div>"
      ],
      "text/plain": [
       "   sk_id_prev  sk_id_curr  amt_balance  amt_credit_limit_actual  sk_dpd\n",
       "0     2562384      378907       56.970                 135000.0       0\n",
       "1     2582071      363914    63975.555                  45000.0       0\n",
       "2     1740877      371185    31815.225                 450000.0       0"
      ]
     },
     "execution_count": 134,
     "metadata": {},
     "output_type": "execute_result"
    }
   ],
   "source": [
    "df_cc_balance.head(3)"
   ]
  },
  {
   "cell_type": "code",
   "execution_count": 135,
   "metadata": {},
   "outputs": [],
   "source": [
    "df_cc = df_cc_balance.groupby(['sk_id_prev', 'sk_id_curr']).agg({'amt_balance': 'mean',\n",
    "                                                                         'amt_credit_limit_actual': 'mean',\n",
    "                                                                         'sk_dpd': 'mean'}).reset_index()"
   ]
  },
  {
   "cell_type": "code",
   "execution_count": 136,
   "metadata": {},
   "outputs": [
    {
     "data": {
      "text/plain": [
       "(104307, 5)"
      ]
     },
     "execution_count": 136,
     "metadata": {},
     "output_type": "execute_result"
    }
   ],
   "source": [
    "df_cc.shape"
   ]
  },
  {
   "cell_type": "code",
   "execution_count": 137,
   "metadata": {},
   "outputs": [],
   "source": [
    "#creating new feature of average cc balance by client\n",
    "df_cc['avr_balance'] = df_cc.amt_balance / df_cc.amt_credit_limit_actual"
   ]
  },
  {
   "cell_type": "code",
   "execution_count": 138,
   "metadata": {},
   "outputs": [],
   "source": [
    "##re-did in case if a client has more then a few cc \n",
    "df_cc = df_cc.groupby(['sk_id_curr']).agg({'sk_id_prev': 'count',\n",
    "                                                                 'amt_balance': 'mean',\n",
    "                                                                 'amt_credit_limit_actual': 'mean',\n",
    "                                                                 'sk_dpd': 'mean',\n",
    "                                                                 'avr_balance': 'mean'}).reset_index()"
   ]
  },
  {
   "cell_type": "code",
   "execution_count": 141,
   "metadata": {},
   "outputs": [
    {
     "data": {
      "text/plain": [
       "0         1\n",
       "68939     1\n",
       "68938     1\n",
       "68937     1\n",
       "68936     1\n",
       "         ..\n",
       "89626     3\n",
       "96387     3\n",
       "30848     3\n",
       "100347    3\n",
       "74145     4\n",
       "Name: sk_id_prev, Length: 103558, dtype: int64"
      ]
     },
     "execution_count": 141,
     "metadata": {},
     "output_type": "execute_result"
    }
   ],
   "source": [
    "df_cc.sk_id_prev.sort_values()"
   ]
  },
  {
   "cell_type": "code",
   "execution_count": 143,
   "metadata": {},
   "outputs": [],
   "source": [
    "df_cc.columns = ['sk_id_curr', 'cc_cnt_prev', 'cc_avg_amt', 'cc_avg_amt',\n",
    "       'cc_avg_dpd', 'cc_avr_balance']"
   ]
  },
  {
   "cell_type": "code",
   "execution_count": 144,
   "metadata": {},
   "outputs": [],
   "source": [
    "#Pickle\n",
    "df_cc.to_pickle(\"./df_cc_prev_all.pkl\")\n",
    "\n",
    "##df_cc_prev= pd.read_pickle(\"./df_cc_prev_all.pkl\")"
   ]
  },
  {
   "cell_type": "markdown",
   "metadata": {},
   "source": [
    "#### Prev applications with the bank"
   ]
  },
  {
   "cell_type": "code",
   "execution_count": 154,
   "metadata": {},
   "outputs": [],
   "source": [
    "# Table with all previous applications for Home Credit loans of clients who have loans in these data set\n",
    "\n",
    "query6 = \"SELECT SK_ID_PREV, SK_ID_CURR, NAME_CONTRACT_TYPE, \\\n",
    "           AMT_CREDIT, NAME_CONTRACT_STATUS, NAME_CLIENT_TYPE \\\n",
    "FROM previous_application;\"\n",
    "\n",
    "df_previous_application = pd_sql.read_sql(query6, connection)"
   ]
  },
  {
   "cell_type": "code",
   "execution_count": 160,
   "metadata": {},
   "outputs": [
    {
     "data": {
      "text/plain": [
       "array(['Approved', 'Refused', 'Canceled', 'Unused offer'], dtype=object)"
      ]
     },
     "execution_count": 160,
     "metadata": {},
     "output_type": "execute_result"
    }
   ],
   "source": [
    "df_previous_application.name_contract_status.unique()"
   ]
  },
  {
   "cell_type": "code",
   "execution_count": 162,
   "metadata": {},
   "outputs": [],
   "source": [
    "## I'm denoting 'Refused' as 1 and any else as 0 --> sum of 1 will show how \n",
    "# many applications were refused in providing loans\n",
    "## Also, for creating a feature as % of all applications from the client\n",
    "df_previous_application.name_contract_status.replace({'Approved':0,\n",
    "                                                          'Canceled':0,\n",
    "                                                          'Unused offer':0,\n",
    "                                                          'Refused': 1}, inplace=True)"
   ]
  },
  {
   "cell_type": "code",
   "execution_count": 163,
   "metadata": {},
   "outputs": [],
   "source": [
    "# XNA - missing value\n",
    "\n",
    "df_previous_application = df_previous_application[df_previous_application.name_contract_type !='XNA']"
   ]
  },
  {
   "cell_type": "code",
   "execution_count": 164,
   "metadata": {
    "scrolled": true
   },
   "outputs": [
    {
     "data": {
      "text/plain": [
       "(1669868, 37)"
      ]
     },
     "execution_count": 164,
     "metadata": {},
     "output_type": "execute_result"
    }
   ],
   "source": [
    "df_previous_application.shape"
   ]
  },
  {
   "cell_type": "code",
   "execution_count": 165,
   "metadata": {},
   "outputs": [],
   "source": [
    "df_previous_application = df_previous_application.groupby(['sk_id_curr', 'name_contract_type']).agg({'sk_id_prev': 'count',\n",
    "                                                                                    'amt_credit': 'mean',\n",
    "                                                                                    'name_contract_status': 'sum'}).reset_index()\n",
    "                                                                                    # sum, since changed to 1 - Refused, 0 - all other"
   ]
  },
  {
   "cell_type": "code",
   "execution_count": 166,
   "metadata": {},
   "outputs": [
    {
     "data": {
      "text/html": [
       "<div>\n",
       "<style scoped>\n",
       "    .dataframe tbody tr th:only-of-type {\n",
       "        vertical-align: middle;\n",
       "    }\n",
       "\n",
       "    .dataframe tbody tr th {\n",
       "        vertical-align: top;\n",
       "    }\n",
       "\n",
       "    .dataframe thead th {\n",
       "        text-align: right;\n",
       "    }\n",
       "</style>\n",
       "<table border=\"1\" class=\"dataframe\">\n",
       "  <thead>\n",
       "    <tr style=\"text-align: right;\">\n",
       "      <th></th>\n",
       "      <th>SK_ID_CURR</th>\n",
       "      <th>NAME_CONTRACT_TYPE</th>\n",
       "      <th>SK_ID_PREV</th>\n",
       "      <th>AMT_CREDIT</th>\n",
       "      <th>NAME_CONTRACT_STATUS</th>\n",
       "    </tr>\n",
       "  </thead>\n",
       "  <tbody>\n",
       "    <tr>\n",
       "      <th>0</th>\n",
       "      <td>100001</td>\n",
       "      <td>Consumer loans</td>\n",
       "      <td>1</td>\n",
       "      <td>23787.0</td>\n",
       "      <td>0</td>\n",
       "    </tr>\n",
       "    <tr>\n",
       "      <th>1</th>\n",
       "      <td>100002</td>\n",
       "      <td>Consumer loans</td>\n",
       "      <td>1</td>\n",
       "      <td>179055.0</td>\n",
       "      <td>0</td>\n",
       "    </tr>\n",
       "    <tr>\n",
       "      <th>2</th>\n",
       "      <td>100003</td>\n",
       "      <td>Cash loans</td>\n",
       "      <td>1</td>\n",
       "      <td>1035882.0</td>\n",
       "      <td>0</td>\n",
       "    </tr>\n",
       "  </tbody>\n",
       "</table>\n",
       "</div>"
      ],
      "text/plain": [
       "   SK_ID_CURR NAME_CONTRACT_TYPE  SK_ID_PREV  AMT_CREDIT  NAME_CONTRACT_STATUS\n",
       "0      100001     Consumer loans           1     23787.0                     0\n",
       "1      100002     Consumer loans           1    179055.0                     0\n",
       "2      100003         Cash loans           1   1035882.0                     0"
      ]
     },
     "execution_count": 166,
     "metadata": {},
     "output_type": "execute_result"
    }
   ],
   "source": [
    "df_previous_application.head(3)"
   ]
  },
  {
   "cell_type": "code",
   "execution_count": 167,
   "metadata": {},
   "outputs": [],
   "source": [
    "##Creating feature for % of rejections on prev applications\n",
    "\n",
    "df_previous_application['num_rejections'] = df_previous_application['name_contract_status']/df_previous_application['sk_id_prev']"
   ]
  },
  {
   "cell_type": "code",
   "execution_count": 171,
   "metadata": {},
   "outputs": [],
   "source": [
    "df_previous_application.columns = (['sk_id_curr', 'prev_app_credit_type', 'prev_app_cnt', \n",
    "                                    'prev_app_avg_amt', 'prev_app_cnt_cnt_reject', 'prev_app_reject_ratio'])"
   ]
  },
  {
   "cell_type": "code",
   "execution_count": 172,
   "metadata": {
    "scrolled": true
   },
   "outputs": [
    {
     "data": {
      "text/html": [
       "<div>\n",
       "<style scoped>\n",
       "    .dataframe tbody tr th:only-of-type {\n",
       "        vertical-align: middle;\n",
       "    }\n",
       "\n",
       "    .dataframe tbody tr th {\n",
       "        vertical-align: top;\n",
       "    }\n",
       "\n",
       "    .dataframe thead th {\n",
       "        text-align: right;\n",
       "    }\n",
       "</style>\n",
       "<table border=\"1\" class=\"dataframe\">\n",
       "  <thead>\n",
       "    <tr style=\"text-align: right;\">\n",
       "      <th></th>\n",
       "      <th>sk_id_curr</th>\n",
       "      <th>prev_app_credit_type</th>\n",
       "      <th>prev_app_cnt</th>\n",
       "      <th>prev_app_avg_amt</th>\n",
       "      <th>prev_app_cnt_cnt_reject</th>\n",
       "      <th>prev_app_reject_ratio</th>\n",
       "    </tr>\n",
       "  </thead>\n",
       "  <tbody>\n",
       "    <tr>\n",
       "      <th>0</th>\n",
       "      <td>100001</td>\n",
       "      <td>Consumer loans</td>\n",
       "      <td>1</td>\n",
       "      <td>23787.0</td>\n",
       "      <td>0</td>\n",
       "      <td>0.0</td>\n",
       "    </tr>\n",
       "    <tr>\n",
       "      <th>1</th>\n",
       "      <td>100002</td>\n",
       "      <td>Consumer loans</td>\n",
       "      <td>1</td>\n",
       "      <td>179055.0</td>\n",
       "      <td>0</td>\n",
       "      <td>0.0</td>\n",
       "    </tr>\n",
       "  </tbody>\n",
       "</table>\n",
       "</div>"
      ],
      "text/plain": [
       "   sk_id_curr prev_app_credit_type  prev_app_cnt  prev_app_avg_amt  \\\n",
       "0      100001       Consumer loans             1           23787.0   \n",
       "1      100002       Consumer loans             1          179055.0   \n",
       "\n",
       "   prev_app_cnt_cnt_reject  prev_app_reject_ratio  \n",
       "0                        0                    0.0  \n",
       "1                        0                    0.0  "
      ]
     },
     "execution_count": 172,
     "metadata": {},
     "output_type": "execute_result"
    }
   ],
   "source": [
    "df_previous_application.head(2)"
   ]
  },
  {
   "cell_type": "code",
   "execution_count": 176,
   "metadata": {},
   "outputs": [
    {
     "data": {
      "text/plain": [
       "(637586, 6)"
      ]
     },
     "execution_count": 176,
     "metadata": {},
     "output_type": "execute_result"
    }
   ],
   "source": [
    "df_previous_application.shape"
   ]
  },
  {
   "cell_type": "code",
   "execution_count": 174,
   "metadata": {},
   "outputs": [],
   "source": [
    "df_previous_application_ = df_previous_application.groupby(['sk_id_curr']).agg({'prev_app_cnt': 'mean',\n",
    "                                                                             'prev_app_avg_amt': 'mean',\n",
    "                                                                             'prev_app_cnt_cnt_reject': 'mean',\n",
    "                                                                             'prev_app_reject_ratio': 'mean'}).reset_index()"
   ]
  },
  {
   "cell_type": "code",
   "execution_count": 175,
   "metadata": {},
   "outputs": [
    {
     "data": {
      "text/plain": [
       "(338857, 5)"
      ]
     },
     "execution_count": 175,
     "metadata": {},
     "output_type": "execute_result"
    }
   ],
   "source": [
    "df_previous_application_.shape"
   ]
  },
  {
   "cell_type": "code",
   "execution_count": 177,
   "metadata": {},
   "outputs": [],
   "source": [
    "#Pickle\n",
    "df_previous_application_.to_pickle(\"./df_previous_application_.pkl\")\n",
    "\n",
    "##df_previous_application_= pd.read_pickle(\"./df_previous_application_.pkl\")"
   ]
  },
  {
   "attachments": {},
   "cell_type": "markdown",
   "metadata": {},
   "source": [
    "#### Installments payments table"
   ]
  },
  {
   "cell_type": "code",
   "execution_count": 178,
   "metadata": {},
   "outputs": [],
   "source": [
    "# Table with client's information on Repayment history for the previously disbursed credits in Home Credit\n",
    "\n",
    "query7 = \"SELECT * FROM installments_payments;\"\n",
    "\n",
    "df_installments_payments = pd_sql.read_sql(query7, connection)"
   ]
  },
  {
   "cell_type": "code",
   "execution_count": 179,
   "metadata": {},
   "outputs": [
    {
     "data": {
      "text/html": [
       "<div>\n",
       "<style scoped>\n",
       "    .dataframe tbody tr th:only-of-type {\n",
       "        vertical-align: middle;\n",
       "    }\n",
       "\n",
       "    .dataframe tbody tr th {\n",
       "        vertical-align: top;\n",
       "    }\n",
       "\n",
       "    .dataframe thead th {\n",
       "        text-align: right;\n",
       "    }\n",
       "</style>\n",
       "<table border=\"1\" class=\"dataframe\">\n",
       "  <thead>\n",
       "    <tr style=\"text-align: right;\">\n",
       "      <th></th>\n",
       "      <th>sk_id_prev</th>\n",
       "      <th>sk_id_curr</th>\n",
       "      <th>num_instalment_version</th>\n",
       "      <th>num_instalment_number</th>\n",
       "      <th>days_instalment</th>\n",
       "      <th>days_entry_payment</th>\n",
       "      <th>amt_instalment</th>\n",
       "      <th>amt_payment</th>\n",
       "    </tr>\n",
       "  </thead>\n",
       "  <tbody>\n",
       "    <tr>\n",
       "      <th>0</th>\n",
       "      <td>1054186</td>\n",
       "      <td>161674</td>\n",
       "      <td>1.0</td>\n",
       "      <td>6</td>\n",
       "      <td>-1180.0</td>\n",
       "      <td>-1187.0</td>\n",
       "      <td>6948.360</td>\n",
       "      <td>6948.360</td>\n",
       "    </tr>\n",
       "    <tr>\n",
       "      <th>1</th>\n",
       "      <td>1330831</td>\n",
       "      <td>151639</td>\n",
       "      <td>0.0</td>\n",
       "      <td>34</td>\n",
       "      <td>-2156.0</td>\n",
       "      <td>-2156.0</td>\n",
       "      <td>1716.525</td>\n",
       "      <td>1716.525</td>\n",
       "    </tr>\n",
       "    <tr>\n",
       "      <th>2</th>\n",
       "      <td>2085231</td>\n",
       "      <td>193053</td>\n",
       "      <td>2.0</td>\n",
       "      <td>1</td>\n",
       "      <td>-63.0</td>\n",
       "      <td>-63.0</td>\n",
       "      <td>25425.000</td>\n",
       "      <td>25425.000</td>\n",
       "    </tr>\n",
       "    <tr>\n",
       "      <th>3</th>\n",
       "      <td>2452527</td>\n",
       "      <td>199697</td>\n",
       "      <td>1.0</td>\n",
       "      <td>3</td>\n",
       "      <td>-2418.0</td>\n",
       "      <td>-2426.0</td>\n",
       "      <td>24350.130</td>\n",
       "      <td>24350.130</td>\n",
       "    </tr>\n",
       "    <tr>\n",
       "      <th>4</th>\n",
       "      <td>2714724</td>\n",
       "      <td>167756</td>\n",
       "      <td>1.0</td>\n",
       "      <td>2</td>\n",
       "      <td>-1383.0</td>\n",
       "      <td>-1366.0</td>\n",
       "      <td>2165.040</td>\n",
       "      <td>2160.585</td>\n",
       "    </tr>\n",
       "  </tbody>\n",
       "</table>\n",
       "</div>"
      ],
      "text/plain": [
       "   sk_id_prev  sk_id_curr  num_instalment_version  num_instalment_number  \\\n",
       "0     1054186      161674                     1.0                      6   \n",
       "1     1330831      151639                     0.0                     34   \n",
       "2     2085231      193053                     2.0                      1   \n",
       "3     2452527      199697                     1.0                      3   \n",
       "4     2714724      167756                     1.0                      2   \n",
       "\n",
       "   days_instalment  days_entry_payment  amt_instalment  amt_payment  \n",
       "0          -1180.0             -1187.0        6948.360     6948.360  \n",
       "1          -2156.0             -2156.0        1716.525     1716.525  \n",
       "2            -63.0               -63.0       25425.000    25425.000  \n",
       "3          -2418.0             -2426.0       24350.130    24350.130  \n",
       "4          -1383.0             -1366.0        2165.040     2160.585  "
      ]
     },
     "execution_count": 179,
     "metadata": {},
     "output_type": "execute_result"
    }
   ],
   "source": [
    "df_installments_payments.head()"
   ]
  },
  {
   "cell_type": "code",
   "execution_count": 180,
   "metadata": {},
   "outputs": [],
   "source": [
    "#create featute DPD\n",
    "df_installments_payments['DPD_loan'] = abs(df_installments_payments.days_entry_payment - df_installments_payments.days_instalment)"
   ]
  },
  {
   "cell_type": "code",
   "execution_count": 182,
   "metadata": {
    "collapsed": true
   },
   "outputs": [
    {
     "name": "stderr",
     "output_type": "stream",
     "text": [
      "/Users/Daria/opt/anaconda3/lib/python3.7/site-packages/ipykernel_launcher.py:2: SettingWithCopyWarning: \n",
      "A value is trying to be set on a copy of a slice from a DataFrame\n",
      "\n",
      "See the caveats in the documentation: https://pandas.pydata.org/pandas-docs/stable/user_guide/indexing.html#returning-a-view-versus-a-copy\n",
      "  \n"
     ]
    }
   ],
   "source": [
    "#correct values when days of actual payment is lower then should be (possible inconsistencies in a data set)\n",
    "df_installments_payments['DPD_loan'][df_installments_payments['days_instalment'] <  df_installments_payments['days_entry_payment']] = 0"
   ]
  },
  {
   "cell_type": "code",
   "execution_count": 183,
   "metadata": {},
   "outputs": [
    {
     "data": {
      "text/plain": [
       "4           0.0\n",
       "19          0.0\n",
       "30          0.0\n",
       "45          0.0\n",
       "47          0.0\n",
       "           ... \n",
       "13605308    0.0\n",
       "13605319    0.0\n",
       "13605328    0.0\n",
       "13605340    0.0\n",
       "13605348    0.0\n",
       "Name: DPD_loan, Length: 1146669, dtype: float64"
      ]
     },
     "execution_count": 183,
     "metadata": {},
     "output_type": "execute_result"
    }
   ],
   "source": [
    "df_installments_payments['DPD_loan'][df_installments_payments['days_instalment'] <  df_installments_payments['days_entry_payment']]"
   ]
  },
  {
   "cell_type": "code",
   "execution_count": 184,
   "metadata": {},
   "outputs": [],
   "source": [
    "df_installments_payments_ = df_installments_payments.groupby(['sk_id_curr', 'sk_id_prev']).agg({\n",
    "                                                                 'amt_instalment': 'mean',\n",
    "                                                                 'DPD_loan': 'mean'}).reset_index()"
   ]
  },
  {
   "cell_type": "code",
   "execution_count": 185,
   "metadata": {},
   "outputs": [],
   "source": [
    "df_installments_payments_ = df_installments_payments_.groupby(['sk_id_curr']).agg({'sk_id_prev': 'count',\n",
    "                                                                     'amt_instalment': 'mean',\n",
    "                                                                     'DPD_loan': 'mean'}).reset_index()"
   ]
  },
  {
   "cell_type": "code",
   "execution_count": 187,
   "metadata": {},
   "outputs": [],
   "source": [
    "df_installments_payments_.columns = ['sk_id_curr', 'loan_cnt_loan', 'loan_avr_instalment', 'loan_dpd']"
   ]
  },
  {
   "cell_type": "code",
   "execution_count": 188,
   "metadata": {},
   "outputs": [],
   "source": [
    "#Pickle\n",
    "df_installments_payments_.to_pickle(\"./df_installments_payments.pkl\")\n",
    "\n",
    "##df_installments_payments= pd.read_pickle(\"./df_installments_payments.pkl\")"
   ]
  },
  {
   "cell_type": "markdown",
   "metadata": {},
   "source": [
    "**MERGE ALL**"
   ]
  },
  {
   "cell_type": "code",
   "execution_count": 189,
   "metadata": {},
   "outputs": [
    {
     "data": {
      "text/html": [
       "<div>\n",
       "<style scoped>\n",
       "    .dataframe tbody tr th:only-of-type {\n",
       "        vertical-align: middle;\n",
       "    }\n",
       "\n",
       "    .dataframe tbody tr th {\n",
       "        vertical-align: top;\n",
       "    }\n",
       "\n",
       "    .dataframe thead th {\n",
       "        text-align: right;\n",
       "    }\n",
       "</style>\n",
       "<table border=\"1\" class=\"dataframe\">\n",
       "  <thead>\n",
       "    <tr style=\"text-align: right;\">\n",
       "      <th></th>\n",
       "      <th>sk_id_curr</th>\n",
       "      <th>sk_bureau_id</th>\n",
       "      <th>bureau_avg_days_overdue</th>\n",
       "      <th>bureau_avg_cnt_prolong</th>\n",
       "      <th>bureau_avg_amt_max_overdue</th>\n",
       "      <th>bureau_avg_amt_credit</th>\n",
       "      <th>bureau_credit_type</th>\n",
       "      <th>bureau_max_pastdue_30_120</th>\n",
       "      <th>bureau_avr_term_loan</th>\n",
       "    </tr>\n",
       "  </thead>\n",
       "  <tbody>\n",
       "    <tr>\n",
       "      <th>0</th>\n",
       "      <td>100001</td>\n",
       "      <td>7</td>\n",
       "      <td>0.0</td>\n",
       "      <td>0.0</td>\n",
       "      <td>NaN</td>\n",
       "      <td>207623.571429</td>\n",
       "      <td>Consumer credit</td>\n",
       "      <td>1</td>\n",
       "      <td>2.239530</td>\n",
       "    </tr>\n",
       "    <tr>\n",
       "      <th>1</th>\n",
       "      <td>100002</td>\n",
       "      <td>8</td>\n",
       "      <td>0.0</td>\n",
       "      <td>0.0</td>\n",
       "      <td>1681.029</td>\n",
       "      <td>108131.945625</td>\n",
       "      <td>Consumer credit</td>\n",
       "      <td>1</td>\n",
       "      <td>3.350685</td>\n",
       "    </tr>\n",
       "  </tbody>\n",
       "</table>\n",
       "</div>"
      ],
      "text/plain": [
       "   sk_id_curr  sk_bureau_id  bureau_avg_days_overdue  bureau_avg_cnt_prolong  \\\n",
       "0      100001             7                      0.0                     0.0   \n",
       "1      100002             8                      0.0                     0.0   \n",
       "\n",
       "   bureau_avg_amt_max_overdue  bureau_avg_amt_credit bureau_credit_type  \\\n",
       "0                         NaN          207623.571429    Consumer credit   \n",
       "1                    1681.029          108131.945625    Consumer credit   \n",
       "\n",
       "  bureau_max_pastdue_30_120  bureau_avr_term_loan  \n",
       "0                         1              2.239530  \n",
       "1                         1              3.350685  "
      ]
     },
     "execution_count": 189,
     "metadata": {},
     "output_type": "execute_result"
    }
   ],
   "source": [
    "df_bureau_all.head(2)"
   ]
  },
  {
   "cell_type": "code",
   "execution_count": 190,
   "metadata": {},
   "outputs": [
    {
     "data": {
      "text/plain": [
       "(305811, 9)"
      ]
     },
     "execution_count": 190,
     "metadata": {},
     "output_type": "execute_result"
    }
   ],
   "source": [
    "df_bureau_all.shape"
   ]
  },
  {
   "cell_type": "code",
   "execution_count": 191,
   "metadata": {},
   "outputs": [
    {
     "data": {
      "text/plain": [
       "(307508, 36)"
      ]
     },
     "execution_count": 191,
     "metadata": {},
     "output_type": "execute_result"
    }
   ],
   "source": [
    "df.shape"
   ]
  },
  {
   "cell_type": "code",
   "execution_count": 192,
   "metadata": {},
   "outputs": [],
   "source": [
    "df_merged = pd.merge(df, df_bureau_all, how='left', on=['sk_id_curr'])"
   ]
  },
  {
   "cell_type": "code",
   "execution_count": 193,
   "metadata": {},
   "outputs": [
    {
     "data": {
      "text/plain": [
       "(307508, 44)"
      ]
     },
     "execution_count": 193,
     "metadata": {},
     "output_type": "execute_result"
    }
   ],
   "source": [
    "df_merged.shape"
   ]
  },
  {
   "cell_type": "code",
   "execution_count": 194,
   "metadata": {},
   "outputs": [
    {
     "data": {
      "text/plain": [
       "(337252, 3)"
      ]
     },
     "execution_count": 194,
     "metadata": {},
     "output_type": "execute_result"
    }
   ],
   "source": [
    "df_pos.shape"
   ]
  },
  {
   "cell_type": "code",
   "execution_count": 195,
   "metadata": {},
   "outputs": [],
   "source": [
    "df_merged2 = pd.merge(df_merged, df_pos, how='left', on=['sk_id_curr'])"
   ]
  },
  {
   "cell_type": "code",
   "execution_count": 196,
   "metadata": {},
   "outputs": [
    {
     "data": {
      "text/plain": [
       "(307508, 46)"
      ]
     },
     "execution_count": 196,
     "metadata": {},
     "output_type": "execute_result"
    }
   ],
   "source": [
    "df_merged2.shape"
   ]
  },
  {
   "cell_type": "code",
   "execution_count": 197,
   "metadata": {},
   "outputs": [
    {
     "data": {
      "text/plain": [
       "(103558, 6)"
      ]
     },
     "execution_count": 197,
     "metadata": {},
     "output_type": "execute_result"
    }
   ],
   "source": [
    "df_cc.shape"
   ]
  },
  {
   "cell_type": "code",
   "execution_count": 198,
   "metadata": {},
   "outputs": [],
   "source": [
    "df_merged3 = pd.merge(df_merged2, df_cc, how='left', on=['sk_id_curr'])"
   ]
  },
  {
   "cell_type": "code",
   "execution_count": 199,
   "metadata": {},
   "outputs": [
    {
     "data": {
      "text/plain": [
       "(338857, 5)"
      ]
     },
     "execution_count": 199,
     "metadata": {},
     "output_type": "execute_result"
    }
   ],
   "source": [
    "df_previous_application_.shape"
   ]
  },
  {
   "cell_type": "code",
   "execution_count": 200,
   "metadata": {},
   "outputs": [
    {
     "data": {
      "text/plain": [
       "Index(['sk_id_curr', 'prev_app_cnt', 'prev_app_avg_amt',\n",
       "       'prev_app_cnt_cnt_reject', 'prev_app_reject_ratio'],\n",
       "      dtype='object')"
      ]
     },
     "execution_count": 200,
     "metadata": {},
     "output_type": "execute_result"
    }
   ],
   "source": [
    "df_previous_application_.columns"
   ]
  },
  {
   "cell_type": "code",
   "execution_count": 201,
   "metadata": {},
   "outputs": [],
   "source": [
    "df_merged4 = pd.merge(df_merged3, df_previous_application_, how='left', on=['sk_id_curr'])"
   ]
  },
  {
   "cell_type": "code",
   "execution_count": 202,
   "metadata": {},
   "outputs": [
    {
     "data": {
      "text/plain": [
       "(339587, 4)"
      ]
     },
     "execution_count": 202,
     "metadata": {},
     "output_type": "execute_result"
    }
   ],
   "source": [
    "df_installments_payments_.shape"
   ]
  },
  {
   "cell_type": "code",
   "execution_count": 203,
   "metadata": {},
   "outputs": [],
   "source": [
    "df_merged5 = pd.merge(df_merged4, df_installments_payments_, how='left', on=['sk_id_curr'])"
   ]
  },
  {
   "cell_type": "code",
   "execution_count": 204,
   "metadata": {},
   "outputs": [
    {
     "data": {
      "text/plain": [
       "(307508, 58)"
      ]
     },
     "execution_count": 204,
     "metadata": {},
     "output_type": "execute_result"
    }
   ],
   "source": [
    "df_merged5.shape"
   ]
  },
  {
   "cell_type": "code",
   "execution_count": 205,
   "metadata": {},
   "outputs": [
    {
     "name": "stdout",
     "output_type": "stream",
     "text": [
      "<class 'pandas.core.frame.DataFrame'>\n",
      "Int64Index: 307508 entries, 0 to 307507\n",
      "Data columns (total 58 columns):\n",
      " #   Column                      Non-Null Count   Dtype  \n",
      "---  ------                      --------------   -----  \n",
      " 0   sk_id_curr                  307508 non-null  int64  \n",
      " 1   target                      307508 non-null  int64  \n",
      " 2   name_contract_type          307508 non-null  object \n",
      " 3   flag_own_car                307508 non-null  int64  \n",
      " 4   flag_own_realty             307508 non-null  int64  \n",
      " 5   cnt_children                307508 non-null  int64  \n",
      " 6   amt_income_total            307508 non-null  float64\n",
      " 7   amt_credit                  307508 non-null  float64\n",
      " 8   amt_annuity                 307496 non-null  float64\n",
      " 9   name_type_suite             306216 non-null  object \n",
      " 10  name_income_type            307508 non-null  object \n",
      " 11  name_education_type         307508 non-null  object \n",
      " 12  name_family_status          307508 non-null  object \n",
      " 13  name_housing_type           307508 non-null  object \n",
      " 14  region_population_relative  307508 non-null  float64\n",
      " 15  days_birth                  307508 non-null  int64  \n",
      " 16  days_employed               307508 non-null  int64  \n",
      " 17  days_registration           307508 non-null  float64\n",
      " 18  days_id_publish             307508 non-null  int64  \n",
      " 19  flag_mobil                  307508 non-null  int64  \n",
      " 20  flag_emp_phone              307508 non-null  int64  \n",
      " 21  flag_work_phone             307508 non-null  int64  \n",
      " 22  flag_cont_mobile            307508 non-null  int64  \n",
      " 23  flag_phone                  307508 non-null  int64  \n",
      " 24  flag_email                  307508 non-null  int64  \n",
      " 25  occupation_type             211119 non-null  object \n",
      " 26  cnt_fam_members             307506 non-null  float64\n",
      " 27  ext_source_1                134131 non-null  float64\n",
      " 28  ext_source_2                306848 non-null  float64\n",
      " 29  ext_source_3                246545 non-null  float64\n",
      " 30  days_last_phone_change      307507 non-null  float64\n",
      " 31  amt_req_credit_bureau_day   265991 non-null  float64\n",
      " 32  DTI_ratio                   307496 non-null  float64\n",
      " 33  AGE_years                   307508 non-null  float64\n",
      " 34  DAYS_EMPLOYED_years         307508 non-null  float64\n",
      " 35  LOAN_TERM_years             307496 non-null  float64\n",
      " 36  sk_bureau_id                263490 non-null  float64\n",
      " 37  bureau_avg_days_overdue     263490 non-null  float64\n",
      " 38  bureau_avg_cnt_prolong      263490 non-null  float64\n",
      " 39  bureau_avg_amt_max_overdue  183886 non-null  float64\n",
      " 40  bureau_avg_amt_credit       263489 non-null  float64\n",
      " 41  bureau_credit_type          263490 non-null  object \n",
      " 42  bureau_max_pastdue_30_120   263490 non-null  object \n",
      " 43  bureau_avr_term_loan        261241 non-null  float64\n",
      " 44  pos_cnt_prev                289441 non-null  float64\n",
      " 45  pos_avg_dpd                 289441 non-null  float64\n",
      " 46  cc_cnt_prev                 86904 non-null   float64\n",
      " 47  cc_avg_amt                  86904 non-null   float64\n",
      " 48  cc_avg_amt                  86904 non-null   float64\n",
      " 49  cc_avg_dpd                  86904 non-null   float64\n",
      " 50  cc_avr_balance              86162 non-null   float64\n",
      " 51  prev_app_cnt                291054 non-null  float64\n",
      " 52  prev_app_avg_amt            291054 non-null  float64\n",
      " 53  prev_app_cnt_cnt_reject     291054 non-null  float64\n",
      " 54  prev_app_reject_ratio       291054 non-null  float64\n",
      " 55  loan_cnt_loan               291640 non-null  float64\n",
      " 56  loan_avr_instalment         291640 non-null  float64\n",
      " 57  loan_dpd                    291632 non-null  float64\n",
      "dtypes: float64(35), int64(14), object(9)\n",
      "memory usage: 138.4+ MB\n"
     ]
    }
   ],
   "source": [
    "df_merged5.info()"
   ]
  },
  {
   "cell_type": "code",
   "execution_count": 206,
   "metadata": {},
   "outputs": [],
   "source": [
    "#Pickle\n",
    "df_merged5.to_pickle(\"./df_merged5.pkl\")\n",
    "\n",
    "##df_merged_all= pd.read_pickle(\"./df_merged5.pkl\")"
   ]
  },
  {
   "cell_type": "markdown",
   "metadata": {},
   "source": [
    "**Another look at merged data**"
   ]
  },
  {
   "cell_type": "code",
   "execution_count": 207,
   "metadata": {},
   "outputs": [],
   "source": [
    "# Another look at data set for potential cleaning before analysis "
   ]
  },
  {
   "cell_type": "code",
   "execution_count": 384,
   "metadata": {},
   "outputs": [],
   "source": [
    "df_merged_all= pd.read_pickle(\"./df_merged5.pkl\")"
   ]
  },
  {
   "cell_type": "code",
   "execution_count": 385,
   "metadata": {
    "scrolled": true
   },
   "outputs": [
    {
     "data": {
      "text/plain": [
       "Index(['sk_id_curr', 'target', 'name_contract_type', 'flag_own_car',\n",
       "       'flag_own_realty', 'cnt_children', 'amt_income_total', 'amt_credit',\n",
       "       'amt_annuity', 'name_type_suite', 'name_income_type',\n",
       "       'name_education_type', 'name_family_status', 'name_housing_type',\n",
       "       'region_population_relative', 'days_birth', 'days_employed',\n",
       "       'days_registration', 'days_id_publish', 'flag_mobil', 'flag_emp_phone',\n",
       "       'flag_work_phone', 'flag_cont_mobile', 'flag_phone', 'flag_email',\n",
       "       'occupation_type', 'cnt_fam_members', 'ext_source_1', 'ext_source_2',\n",
       "       'ext_source_3', 'days_last_phone_change', 'amt_req_credit_bureau_day',\n",
       "       'DTI_ratio', 'AGE_years', 'DAYS_EMPLOYED_years', 'LOAN_TERM_years',\n",
       "       'sk_bureau_id', 'bureau_avg_days_overdue', 'bureau_avg_cnt_prolong',\n",
       "       'bureau_avg_amt_max_overdue', 'bureau_avg_amt_credit',\n",
       "       'bureau_credit_type', 'bureau_max_pastdue_30_120',\n",
       "       'bureau_avr_term_loan', 'pos_cnt_prev', 'pos_avg_dpd', 'cc_cnt_prev',\n",
       "       'cc_avg_amt', 'cc_avg_amt', 'cc_avg_dpd', 'cc_avr_balance',\n",
       "       'prev_app_cnt', 'prev_app_avg_amt', 'prev_app_cnt_cnt_reject',\n",
       "       'prev_app_reject_ratio', 'loan_cnt_loan', 'loan_avr_instalment',\n",
       "       'loan_dpd'],\n",
       "      dtype='object')"
      ]
     },
     "execution_count": 385,
     "metadata": {},
     "output_type": "execute_result"
    }
   ],
   "source": [
    "df_merged_all.columns"
   ]
  },
  {
   "cell_type": "code",
   "execution_count": 386,
   "metadata": {},
   "outputs": [
    {
     "name": "stdout",
     "output_type": "stream",
     "text": [
      "<class 'pandas.core.frame.DataFrame'>\n",
      "Int64Index: 307508 entries, 0 to 307507\n",
      "Data columns (total 58 columns):\n",
      " #   Column                      Non-Null Count   Dtype  \n",
      "---  ------                      --------------   -----  \n",
      " 0   sk_id_curr                  307508 non-null  int64  \n",
      " 1   target                      307508 non-null  int64  \n",
      " 2   name_contract_type          307508 non-null  object \n",
      " 3   flag_own_car                307508 non-null  int64  \n",
      " 4   flag_own_realty             307508 non-null  int64  \n",
      " 5   cnt_children                307508 non-null  int64  \n",
      " 6   amt_income_total            307508 non-null  float64\n",
      " 7   amt_credit                  307508 non-null  float64\n",
      " 8   amt_annuity                 307496 non-null  float64\n",
      " 9   name_type_suite             306216 non-null  object \n",
      " 10  name_income_type            307508 non-null  object \n",
      " 11  name_education_type         307508 non-null  object \n",
      " 12  name_family_status          307508 non-null  object \n",
      " 13  name_housing_type           307508 non-null  object \n",
      " 14  region_population_relative  307508 non-null  float64\n",
      " 15  days_birth                  307508 non-null  int64  \n",
      " 16  days_employed               307508 non-null  int64  \n",
      " 17  days_registration           307508 non-null  float64\n",
      " 18  days_id_publish             307508 non-null  int64  \n",
      " 19  flag_mobil                  307508 non-null  int64  \n",
      " 20  flag_emp_phone              307508 non-null  int64  \n",
      " 21  flag_work_phone             307508 non-null  int64  \n",
      " 22  flag_cont_mobile            307508 non-null  int64  \n",
      " 23  flag_phone                  307508 non-null  int64  \n",
      " 24  flag_email                  307508 non-null  int64  \n",
      " 25  occupation_type             211119 non-null  object \n",
      " 26  cnt_fam_members             307506 non-null  float64\n",
      " 27  ext_source_1                134131 non-null  float64\n",
      " 28  ext_source_2                306848 non-null  float64\n",
      " 29  ext_source_3                246545 non-null  float64\n",
      " 30  days_last_phone_change      307507 non-null  float64\n",
      " 31  amt_req_credit_bureau_day   265991 non-null  float64\n",
      " 32  DTI_ratio                   307496 non-null  float64\n",
      " 33  AGE_years                   307508 non-null  float64\n",
      " 34  DAYS_EMPLOYED_years         307508 non-null  float64\n",
      " 35  LOAN_TERM_years             307496 non-null  float64\n",
      " 36  sk_bureau_id                263490 non-null  float64\n",
      " 37  bureau_avg_days_overdue     263490 non-null  float64\n",
      " 38  bureau_avg_cnt_prolong      263490 non-null  float64\n",
      " 39  bureau_avg_amt_max_overdue  183886 non-null  float64\n",
      " 40  bureau_avg_amt_credit       263489 non-null  float64\n",
      " 41  bureau_credit_type          263490 non-null  object \n",
      " 42  bureau_max_pastdue_30_120   263490 non-null  object \n",
      " 43  bureau_avr_term_loan        261241 non-null  float64\n",
      " 44  pos_cnt_prev                289441 non-null  float64\n",
      " 45  pos_avg_dpd                 289441 non-null  float64\n",
      " 46  cc_cnt_prev                 86904 non-null   float64\n",
      " 47  cc_avg_amt                  86904 non-null   float64\n",
      " 48  cc_avg_amt                  86904 non-null   float64\n",
      " 49  cc_avg_dpd                  86904 non-null   float64\n",
      " 50  cc_avr_balance              86162 non-null   float64\n",
      " 51  prev_app_cnt                291054 non-null  float64\n",
      " 52  prev_app_avg_amt            291054 non-null  float64\n",
      " 53  prev_app_cnt_cnt_reject     291054 non-null  float64\n",
      " 54  prev_app_reject_ratio       291054 non-null  float64\n",
      " 55  loan_cnt_loan               291640 non-null  float64\n",
      " 56  loan_avr_instalment         291640 non-null  float64\n",
      " 57  loan_dpd                    291632 non-null  float64\n",
      "dtypes: float64(35), int64(14), object(9)\n",
      "memory usage: 138.4+ MB\n"
     ]
    }
   ],
   "source": [
    "df_merged_all.info()"
   ]
  },
  {
   "cell_type": "code",
   "execution_count": 387,
   "metadata": {},
   "outputs": [],
   "source": [
    "# drop, since I'm using DTI ratio\n",
    "df_merged_all.dropna(subset=['amt_annuity'], inplace=True)"
   ]
  },
  {
   "cell_type": "code",
   "execution_count": 389,
   "metadata": {},
   "outputs": [],
   "source": [
    "# filling missing values with 'Other'\n",
    "df_merged_all['name_type_suite'].fillna(value='Other', inplace=True)"
   ]
  },
  {
   "cell_type": "code",
   "execution_count": 390,
   "metadata": {},
   "outputs": [],
   "source": [
    "df_merged_all['occupation_type'].fillna(value='Other', inplace=True)"
   ]
  },
  {
   "cell_type": "code",
   "execution_count": 392,
   "metadata": {},
   "outputs": [],
   "source": [
    "# From sample data (analysis that was done before by me on a smaller data set), \n",
    "# I remember that some features weren't important at all --> dropping them\n",
    "\n",
    "df_merged_all.drop(['cc_avg_amt', 'cc_avg_amt', 'cc_avr_balance', 'cc_avg_dpd'], axis=1, inplace=True)"
   ]
  },
  {
   "cell_type": "code",
   "execution_count": 428,
   "metadata": {
    "scrolled": true
   },
   "outputs": [
    {
     "data": {
      "text/html": [
       "<div>\n",
       "<style scoped>\n",
       "    .dataframe tbody tr th:only-of-type {\n",
       "        vertical-align: middle;\n",
       "    }\n",
       "\n",
       "    .dataframe tbody tr th {\n",
       "        vertical-align: top;\n",
       "    }\n",
       "\n",
       "    .dataframe thead th {\n",
       "        text-align: right;\n",
       "    }\n",
       "</style>\n",
       "<table border=\"1\" class=\"dataframe\">\n",
       "  <thead>\n",
       "    <tr style=\"text-align: right;\">\n",
       "      <th></th>\n",
       "      <th>sk_id_curr</th>\n",
       "      <th>target</th>\n",
       "      <th>flag_own_car</th>\n",
       "      <th>flag_own_realty</th>\n",
       "      <th>cnt_children</th>\n",
       "      <th>amt_income_total</th>\n",
       "      <th>amt_credit</th>\n",
       "      <th>amt_annuity</th>\n",
       "      <th>region_population_relative</th>\n",
       "      <th>days_birth</th>\n",
       "      <th>...</th>\n",
       "      <th>pos_cnt_prev</th>\n",
       "      <th>pos_avg_dpd</th>\n",
       "      <th>cc_cnt_prev</th>\n",
       "      <th>prev_app_cnt</th>\n",
       "      <th>prev_app_avg_amt</th>\n",
       "      <th>prev_app_cnt_cnt_reject</th>\n",
       "      <th>prev_app_reject_ratio</th>\n",
       "      <th>loan_cnt_loan</th>\n",
       "      <th>loan_avr_instalment</th>\n",
       "      <th>loan_dpd</th>\n",
       "    </tr>\n",
       "  </thead>\n",
       "  <tbody>\n",
       "    <tr>\n",
       "      <th>count</th>\n",
       "      <td>307496.000000</td>\n",
       "      <td>307496.00000</td>\n",
       "      <td>307496.000000</td>\n",
       "      <td>307496.000000</td>\n",
       "      <td>307496.000000</td>\n",
       "      <td>3.074960e+05</td>\n",
       "      <td>3.074960e+05</td>\n",
       "      <td>307496.000000</td>\n",
       "      <td>307496.000000</td>\n",
       "      <td>307496.000000</td>\n",
       "      <td>...</td>\n",
       "      <td>289429.000000</td>\n",
       "      <td>289429.000000</td>\n",
       "      <td>86896.000000</td>\n",
       "      <td>291042.000000</td>\n",
       "      <td>2.910420e+05</td>\n",
       "      <td>291042.000000</td>\n",
       "      <td>291042.000000</td>\n",
       "      <td>291628.000000</td>\n",
       "      <td>2.916280e+05</td>\n",
       "      <td>291620.000000</td>\n",
       "    </tr>\n",
       "    <tr>\n",
       "      <th>mean</th>\n",
       "      <td>278181.927576</td>\n",
       "      <td>0.08073</td>\n",
       "      <td>0.340108</td>\n",
       "      <td>0.693687</td>\n",
       "      <td>0.417062</td>\n",
       "      <td>1.683159e+05</td>\n",
       "      <td>5.990246e+05</td>\n",
       "      <td>27108.102001</td>\n",
       "      <td>0.020868</td>\n",
       "      <td>-16037.074508</td>\n",
       "      <td>...</td>\n",
       "      <td>2.765079</td>\n",
       "      <td>1.575370</td>\n",
       "      <td>1.006295</td>\n",
       "      <td>2.488262</td>\n",
       "      <td>1.670741e+05</td>\n",
       "      <td>0.390067</td>\n",
       "      <td>0.101485</td>\n",
       "      <td>2.925971</td>\n",
       "      <td>2.271693e+04</td>\n",
       "      <td>12.909996</td>\n",
       "    </tr>\n",
       "    <tr>\n",
       "      <th>std</th>\n",
       "      <td>102790.209032</td>\n",
       "      <td>0.27242</td>\n",
       "      <td>0.473746</td>\n",
       "      <td>0.460962</td>\n",
       "      <td>0.722127</td>\n",
       "      <td>1.011350e+05</td>\n",
       "      <td>4.024920e+05</td>\n",
       "      <td>14492.398549</td>\n",
       "      <td>0.013831</td>\n",
       "      <td>4364.015005</td>\n",
       "      <td>...</td>\n",
       "      <td>1.963068</td>\n",
       "      <td>10.631052</td>\n",
       "      <td>0.079959</td>\n",
       "      <td>1.743710</td>\n",
       "      <td>1.600900e+05</td>\n",
       "      <td>0.822084</td>\n",
       "      <td>0.176450</td>\n",
       "      <td>2.041033</td>\n",
       "      <td>3.609747e+04</td>\n",
       "      <td>8.646809</td>\n",
       "    </tr>\n",
       "    <tr>\n",
       "      <th>min</th>\n",
       "      <td>100002.000000</td>\n",
       "      <td>0.00000</td>\n",
       "      <td>0.000000</td>\n",
       "      <td>0.000000</td>\n",
       "      <td>0.000000</td>\n",
       "      <td>2.565000e+04</td>\n",
       "      <td>4.500000e+04</td>\n",
       "      <td>1615.500000</td>\n",
       "      <td>0.000290</td>\n",
       "      <td>-25229.000000</td>\n",
       "      <td>...</td>\n",
       "      <td>1.000000</td>\n",
       "      <td>0.000000</td>\n",
       "      <td>1.000000</td>\n",
       "      <td>1.000000</td>\n",
       "      <td>0.000000e+00</td>\n",
       "      <td>0.000000</td>\n",
       "      <td>0.000000</td>\n",
       "      <td>1.000000</td>\n",
       "      <td>0.000000e+00</td>\n",
       "      <td>0.000000</td>\n",
       "    </tr>\n",
       "    <tr>\n",
       "      <th>25%</th>\n",
       "      <td>189149.750000</td>\n",
       "      <td>0.00000</td>\n",
       "      <td>0.000000</td>\n",
       "      <td>0.000000</td>\n",
       "      <td>0.000000</td>\n",
       "      <td>1.125000e+05</td>\n",
       "      <td>2.700000e+05</td>\n",
       "      <td>16524.000000</td>\n",
       "      <td>0.010006</td>\n",
       "      <td>-19682.000000</td>\n",
       "      <td>...</td>\n",
       "      <td>1.000000</td>\n",
       "      <td>0.000000</td>\n",
       "      <td>1.000000</td>\n",
       "      <td>1.000000</td>\n",
       "      <td>6.594708e+04</td>\n",
       "      <td>0.000000</td>\n",
       "      <td>0.000000</td>\n",
       "      <td>1.000000</td>\n",
       "      <td>8.293507e+03</td>\n",
       "      <td>7.516667</td>\n",
       "    </tr>\n",
       "    <tr>\n",
       "      <th>50%</th>\n",
       "      <td>278203.500000</td>\n",
       "      <td>0.00000</td>\n",
       "      <td>0.000000</td>\n",
       "      <td>1.000000</td>\n",
       "      <td>0.000000</td>\n",
       "      <td>1.468125e+05</td>\n",
       "      <td>5.135310e+05</td>\n",
       "      <td>24903.000000</td>\n",
       "      <td>0.018850</td>\n",
       "      <td>-15750.000000</td>\n",
       "      <td>...</td>\n",
       "      <td>2.000000</td>\n",
       "      <td>0.000000</td>\n",
       "      <td>1.000000</td>\n",
       "      <td>2.000000</td>\n",
       "      <td>1.177299e+05</td>\n",
       "      <td>0.000000</td>\n",
       "      <td>0.000000</td>\n",
       "      <td>2.000000</td>\n",
       "      <td>1.339755e+04</td>\n",
       "      <td>11.000000</td>\n",
       "    </tr>\n",
       "    <tr>\n",
       "      <th>75%</th>\n",
       "      <td>367143.250000</td>\n",
       "      <td>0.00000</td>\n",
       "      <td>1.000000</td>\n",
       "      <td>1.000000</td>\n",
       "      <td>1.000000</td>\n",
       "      <td>2.025000e+05</td>\n",
       "      <td>8.086500e+05</td>\n",
       "      <td>34596.000000</td>\n",
       "      <td>0.028663</td>\n",
       "      <td>-12413.000000</td>\n",
       "      <td>...</td>\n",
       "      <td>4.000000</td>\n",
       "      <td>0.000000</td>\n",
       "      <td>1.000000</td>\n",
       "      <td>3.000000</td>\n",
       "      <td>2.139268e+05</td>\n",
       "      <td>0.500000</td>\n",
       "      <td>0.166667</td>\n",
       "      <td>4.000000</td>\n",
       "      <td>2.382326e+04</td>\n",
       "      <td>15.935951</td>\n",
       "    </tr>\n",
       "    <tr>\n",
       "      <th>max</th>\n",
       "      <td>456255.000000</td>\n",
       "      <td>1.00000</td>\n",
       "      <td>1.000000</td>\n",
       "      <td>1.000000</td>\n",
       "      <td>19.000000</td>\n",
       "      <td>9.000000e+06</td>\n",
       "      <td>4.050000e+06</td>\n",
       "      <td>258025.500000</td>\n",
       "      <td>0.072508</td>\n",
       "      <td>-7489.000000</td>\n",
       "      <td>...</td>\n",
       "      <td>26.000000</td>\n",
       "      <td>100.000000</td>\n",
       "      <td>4.000000</td>\n",
       "      <td>36.000000</td>\n",
       "      <td>4.050000e+06</td>\n",
       "      <td>29.000000</td>\n",
       "      <td>1.000000</td>\n",
       "      <td>26.000000</td>\n",
       "      <td>2.504590e+06</td>\n",
       "      <td>120.000000</td>\n",
       "    </tr>\n",
       "  </tbody>\n",
       "</table>\n",
       "<p>8 rows × 45 columns</p>\n",
       "</div>"
      ],
      "text/plain": [
       "          sk_id_curr        target   flag_own_car  flag_own_realty  \\\n",
       "count  307496.000000  307496.00000  307496.000000    307496.000000   \n",
       "mean   278181.927576       0.08073       0.340108         0.693687   \n",
       "std    102790.209032       0.27242       0.473746         0.460962   \n",
       "min    100002.000000       0.00000       0.000000         0.000000   \n",
       "25%    189149.750000       0.00000       0.000000         0.000000   \n",
       "50%    278203.500000       0.00000       0.000000         1.000000   \n",
       "75%    367143.250000       0.00000       1.000000         1.000000   \n",
       "max    456255.000000       1.00000       1.000000         1.000000   \n",
       "\n",
       "        cnt_children  amt_income_total    amt_credit    amt_annuity  \\\n",
       "count  307496.000000      3.074960e+05  3.074960e+05  307496.000000   \n",
       "mean        0.417062      1.683159e+05  5.990246e+05   27108.102001   \n",
       "std         0.722127      1.011350e+05  4.024920e+05   14492.398549   \n",
       "min         0.000000      2.565000e+04  4.500000e+04    1615.500000   \n",
       "25%         0.000000      1.125000e+05  2.700000e+05   16524.000000   \n",
       "50%         0.000000      1.468125e+05  5.135310e+05   24903.000000   \n",
       "75%         1.000000      2.025000e+05  8.086500e+05   34596.000000   \n",
       "max        19.000000      9.000000e+06  4.050000e+06  258025.500000   \n",
       "\n",
       "       region_population_relative     days_birth  ...   pos_cnt_prev  \\\n",
       "count               307496.000000  307496.000000  ...  289429.000000   \n",
       "mean                     0.020868  -16037.074508  ...       2.765079   \n",
       "std                      0.013831    4364.015005  ...       1.963068   \n",
       "min                      0.000290  -25229.000000  ...       1.000000   \n",
       "25%                      0.010006  -19682.000000  ...       1.000000   \n",
       "50%                      0.018850  -15750.000000  ...       2.000000   \n",
       "75%                      0.028663  -12413.000000  ...       4.000000   \n",
       "max                      0.072508   -7489.000000  ...      26.000000   \n",
       "\n",
       "         pos_avg_dpd   cc_cnt_prev   prev_app_cnt  prev_app_avg_amt  \\\n",
       "count  289429.000000  86896.000000  291042.000000      2.910420e+05   \n",
       "mean        1.575370      1.006295       2.488262      1.670741e+05   \n",
       "std        10.631052      0.079959       1.743710      1.600900e+05   \n",
       "min         0.000000      1.000000       1.000000      0.000000e+00   \n",
       "25%         0.000000      1.000000       1.000000      6.594708e+04   \n",
       "50%         0.000000      1.000000       2.000000      1.177299e+05   \n",
       "75%         0.000000      1.000000       3.000000      2.139268e+05   \n",
       "max       100.000000      4.000000      36.000000      4.050000e+06   \n",
       "\n",
       "       prev_app_cnt_cnt_reject  prev_app_reject_ratio  loan_cnt_loan  \\\n",
       "count            291042.000000          291042.000000  291628.000000   \n",
       "mean                  0.390067               0.101485       2.925971   \n",
       "std                   0.822084               0.176450       2.041033   \n",
       "min                   0.000000               0.000000       1.000000   \n",
       "25%                   0.000000               0.000000       1.000000   \n",
       "50%                   0.000000               0.000000       2.000000   \n",
       "75%                   0.500000               0.166667       4.000000   \n",
       "max                  29.000000               1.000000      26.000000   \n",
       "\n",
       "       loan_avr_instalment       loan_dpd  \n",
       "count         2.916280e+05  291620.000000  \n",
       "mean          2.271693e+04      12.909996  \n",
       "std           3.609747e+04       8.646809  \n",
       "min           0.000000e+00       0.000000  \n",
       "25%           8.293507e+03       7.516667  \n",
       "50%           1.339755e+04      11.000000  \n",
       "75%           2.382326e+04      15.935951  \n",
       "max           2.504590e+06     120.000000  \n",
       "\n",
       "[8 rows x 45 columns]"
      ]
     },
     "execution_count": 428,
     "metadata": {},
     "output_type": "execute_result"
    }
   ],
   "source": [
    "df_merged_all.describe()"
   ]
  },
  {
   "cell_type": "code",
   "execution_count": 1143,
   "metadata": {},
   "outputs": [
    {
     "data": {
      "text/plain": [
       "54"
      ]
     },
     "execution_count": 1143,
     "metadata": {},
     "output_type": "execute_result"
    }
   ],
   "source": [
    "len(df_merged_all.columns)"
   ]
  },
  {
   "cell_type": "code",
   "execution_count": 394,
   "metadata": {
    "collapsed": true
   },
   "outputs": [
    {
     "name": "stderr",
     "output_type": "stream",
     "text": [
      "/Users/Daria/opt/anaconda3/lib/python3.7/site-packages/ipykernel_launcher.py:2: SettingWithCopyWarning: \n",
      "A value is trying to be set on a copy of a slice from a DataFrame\n",
      "\n",
      "See the caveats in the documentation: https://pandas.pydata.org/pandas-docs/stable/user_guide/indexing.html#returning-a-view-versus-a-copy\n",
      "  \n"
     ]
    }
   ],
   "source": [
    "#set extreme values to 100\n",
    "df_merged_all['pos_avg_dpd'][df_merged_all.pos_avg_dpd > 100] = 100"
   ]
  },
  {
   "cell_type": "code",
   "execution_count": 407,
   "metadata": {
    "scrolled": true
   },
   "outputs": [
    {
     "data": {
      "text/plain": [
       "26        10.000000\n",
       "31         4.000000\n",
       "37         1.666667\n",
       "53         2.666667\n",
       "56         1.333333\n",
       "            ...    \n",
       "307436     1.500000\n",
       "307476     1.666667\n",
       "307480     1.500000\n",
       "307484     1.333333\n",
       "307496     2.000000\n",
       "Name: prev_app_cnt_cnt_reject, Length: 27927, dtype: float64"
      ]
     },
     "execution_count": 407,
     "metadata": {},
     "output_type": "execute_result"
    }
   ],
   "source": [
    "df_merged_all['prev_app_cnt_cnt_reject'][df_merged_all['prev_app_cnt_cnt_reject'] > 1]"
   ]
  },
  {
   "cell_type": "code",
   "execution_count": 426,
   "metadata": {
    "collapsed": true
   },
   "outputs": [
    {
     "name": "stderr",
     "output_type": "stream",
     "text": [
      "/Users/Daria/opt/anaconda3/lib/python3.7/site-packages/ipykernel_launcher.py:2: SettingWithCopyWarning: \n",
      "A value is trying to be set on a copy of a slice from a DataFrame\n",
      "\n",
      "See the caveats in the documentation: https://pandas.pydata.org/pandas-docs/stable/user_guide/indexing.html#returning-a-view-versus-a-copy\n",
      "  \n"
     ]
    }
   ],
   "source": [
    "# such big values don't make any sense --> change them to 120 days that usually means selling a loan\n",
    "df_merged_all['loan_dpd'][df_merged_all.loan_dpd > 120] = 120"
   ]
  },
  {
   "cell_type": "code",
   "execution_count": 436,
   "metadata": {
    "collapsed": true
   },
   "outputs": [
    {
     "name": "stderr",
     "output_type": "stream",
     "text": [
      "/Users/Daria/opt/anaconda3/lib/python3.7/site-packages/ipykernel_launcher.py:1: SettingWithCopyWarning: \n",
      "A value is trying to be set on a copy of a slice from a DataFrame\n",
      "\n",
      "See the caveats in the documentation: https://pandas.pydata.org/pandas-docs/stable/user_guide/indexing.html#returning-a-view-versus-a-copy\n",
      "  \"\"\"Entry point for launching an IPython kernel.\n"
     ]
    }
   ],
   "source": [
    "# such big values don't make any sense --> change them to 120 days that usually means selling a loan\n",
    "df_merged_all['bureau_avg_days_overdue'][df_merged_all.bureau_avg_days_overdue > 120] = 120"
   ]
  },
  {
   "cell_type": "code",
   "execution_count": 430,
   "metadata": {},
   "outputs": [],
   "source": [
    "df_merged_all.bureau_max_pastdue_30_120.fillna('0', inplace=True)"
   ]
  },
  {
   "cell_type": "code",
   "execution_count": 433,
   "metadata": {
    "scrolled": true
   },
   "outputs": [
    {
     "data": {
      "text/plain": [
       "Index(['sk_id_curr', 'target', 'name_contract_type', 'flag_own_car',\n",
       "       'flag_own_realty', 'cnt_children', 'amt_income_total', 'amt_credit',\n",
       "       'amt_annuity', 'name_type_suite', 'name_income_type',\n",
       "       'name_education_type', 'name_family_status', 'name_housing_type',\n",
       "       'region_population_relative', 'days_birth', 'days_employed',\n",
       "       'days_registration', 'days_id_publish', 'flag_mobil', 'flag_emp_phone',\n",
       "       'flag_work_phone', 'flag_cont_mobile', 'flag_phone', 'flag_email',\n",
       "       'occupation_type', 'cnt_fam_members', 'ext_source_1', 'ext_source_2',\n",
       "       'ext_source_3', 'days_last_phone_change', 'amt_req_credit_bureau_day',\n",
       "       'DTI_ratio', 'AGE_years', 'DAYS_EMPLOYED_years', 'LOAN_TERM_years',\n",
       "       'sk_bureau_id', 'bureau_avg_days_overdue', 'bureau_avg_cnt_prolong',\n",
       "       'bureau_avg_amt_max_overdue', 'bureau_avg_amt_credit',\n",
       "       'bureau_credit_type', 'bureau_max_pastdue_30_120',\n",
       "       'bureau_avr_term_loan', 'pos_cnt_prev', 'pos_avg_dpd', 'cc_cnt_prev',\n",
       "       'prev_app_cnt', 'prev_app_avg_amt', 'prev_app_cnt_cnt_reject',\n",
       "       'prev_app_reject_ratio', 'loan_cnt_loan', 'loan_avr_instalment',\n",
       "       'loan_dpd'],\n",
       "      dtype='object')"
      ]
     },
     "execution_count": 433,
     "metadata": {},
     "output_type": "execute_result"
    }
   ],
   "source": [
    "df_merged_all.columns"
   ]
  },
  {
   "cell_type": "code",
   "execution_count": 669,
   "metadata": {},
   "outputs": [],
   "source": [
    "#Pickle\n",
    "df_merged_all.to_pickle(\"./df_merged_all_WORK.pkl\")\n",
    "\n",
    "##df_merged_all= pd.read_pickle(\"./df_merged_all_WORK.pkl\")"
   ]
  },
  {
   "cell_type": "code",
   "execution_count": 825,
   "metadata": {},
   "outputs": [],
   "source": [
    "df_merged_all.to_csv('data.csv', header=True)"
   ]
  },
  {
   "cell_type": "markdown",
   "metadata": {},
   "source": [
    "**Checking feature importance for all data set, before selecting features**"
   ]
  },
  {
   "cell_type": "code",
   "execution_count": 149,
   "metadata": {},
   "outputs": [],
   "source": [
    "df_merged_all= pd.read_pickle(\"./df_merged_all_WORK.pkl\")"
   ]
  },
  {
   "cell_type": "code",
   "execution_count": 150,
   "metadata": {},
   "outputs": [],
   "source": [
    "X = df_merged_all[['name_contract_type', 'flag_own_car',\n",
    "       'flag_own_realty', 'cnt_children', 'amt_income_total', 'amt_credit',\n",
    "       'amt_annuity', 'name_type_suite', 'name_income_type',\n",
    "       'name_education_type', 'name_family_status', 'name_housing_type',\n",
    "       'region_population_relative', \n",
    "       'days_registration', 'days_id_publish', 'flag_mobil', 'flag_emp_phone',\n",
    "       'flag_work_phone', 'flag_cont_mobile', 'flag_phone', 'flag_email',\n",
    "       'occupation_type', 'cnt_fam_members', 'ext_source_1', 'ext_source_2',\n",
    "       'ext_source_3', 'days_last_phone_change', 'amt_req_credit_bureau_day',\n",
    "       'DTI_ratio', 'AGE_years', 'DAYS_EMPLOYED_years', 'LOAN_TERM_years',\n",
    "       'bureau_avg_days_overdue', 'bureau_avg_cnt_prolong',\n",
    "       'bureau_avg_amt_max_overdue', 'bureau_avg_amt_credit',\n",
    "       'bureau_credit_type', 'bureau_max_pastdue_30_120',\n",
    "       'bureau_avr_term_loan', 'pos_cnt_prev', 'pos_avg_dpd', 'cc_cnt_prev',\n",
    "       'prev_app_cnt', 'prev_app_avg_amt', 'prev_app_cnt_cnt_reject',\n",
    "       'prev_app_reject_ratio', 'loan_cnt_loan', 'loan_avr_instalment',\n",
    "       'loan_dpd']]\n",
    "\n",
    "y = df_merged_all['target']"
   ]
  },
  {
   "cell_type": "code",
   "execution_count": 152,
   "metadata": {},
   "outputs": [],
   "source": []
  },
  {
   "cell_type": "code",
   "execution_count": 153,
   "metadata": {
    "scrolled": true
   },
   "outputs": [],
   "source": [
    "# fill missing values with extreme value -9999\n",
    "X.fillna(-9999, inplace=True)"
   ]
  },
  {
   "cell_type": "code",
   "execution_count": 155,
   "metadata": {},
   "outputs": [],
   "source": [
    "X_train, X_test, y_train, y_test = train_test_split(pd.get_dummies(X), y, \\\n",
    "                                                            test_size=0.3, random_state=42)"
   ]
  },
  {
   "cell_type": "code",
   "execution_count": 156,
   "metadata": {},
   "outputs": [],
   "source": [
    "rf = RandomForestClassifier(n_estimators=100, class_weight='balanced', max_depth=10)"
   ]
  },
  {
   "cell_type": "code",
   "execution_count": 157,
   "metadata": {},
   "outputs": [
    {
     "data": {
      "text/plain": [
       "RandomForestClassifier(bootstrap=True, ccp_alpha=0.0, class_weight='balanced',\n",
       "                       criterion='gini', max_depth=10, max_features='auto',\n",
       "                       max_leaf_nodes=None, max_samples=None,\n",
       "                       min_impurity_decrease=0.0, min_impurity_split=None,\n",
       "                       min_samples_leaf=1, min_samples_split=2,\n",
       "                       min_weight_fraction_leaf=0.0, n_estimators=100,\n",
       "                       n_jobs=None, oob_score=False, random_state=None,\n",
       "                       verbose=0, warm_start=False)"
      ]
     },
     "execution_count": 157,
     "metadata": {},
     "output_type": "execute_result"
    }
   ],
   "source": [
    "rf.fit(X_train, y_train)"
   ]
  },
  {
   "cell_type": "code",
   "execution_count": 158,
   "metadata": {},
   "outputs": [],
   "source": [
    "importances = rf.feature_importances_"
   ]
  },
  {
   "cell_type": "code",
   "execution_count": 159,
   "metadata": {},
   "outputs": [],
   "source": [
    "feature_list = list(X.columns)"
   ]
  },
  {
   "cell_type": "code",
   "execution_count": 160,
   "metadata": {},
   "outputs": [],
   "source": [
    "# Get numerical feature importances\n",
    "importances = list(rf.feature_importances_)\n",
    "# List of tuples with variable and importance\n",
    "feature_importances = [(feature, round(importance, 2)) for feature, importance in zip(feature_list, importances)]\n",
    "# Sort the feature importances by most important first\n",
    "feature_importances = sorted(feature_importances, key = lambda x: x[1], reverse = True)"
   ]
  },
  {
   "cell_type": "code",
   "execution_count": 161,
   "metadata": {},
   "outputs": [
    {
     "data": {
      "text/plain": [
       "49"
      ]
     },
     "execution_count": 161,
     "metadata": {},
     "output_type": "execute_result"
    }
   ],
   "source": [
    "len(feature_importances)"
   ]
  },
  {
   "cell_type": "code",
   "execution_count": 162,
   "metadata": {},
   "outputs": [],
   "source": [
    "d = {}\n",
    "for feature in feature_importances:\n",
    "    d[feature[0]] = feature[1]"
   ]
  },
  {
   "cell_type": "code",
   "execution_count": 163,
   "metadata": {},
   "outputs": [],
   "source": [
    "df = pd.DataFrame(d, index=[0]).T"
   ]
  },
  {
   "cell_type": "code",
   "execution_count": 164,
   "metadata": {},
   "outputs": [],
   "source": [
    "df.columns = ['Importance']"
   ]
  },
  {
   "cell_type": "code",
   "execution_count": 181,
   "metadata": {
    "scrolled": false
   },
   "outputs": [],
   "source": [
    "df = df[df['Importance']>0.01].reset_index()"
   ]
  },
  {
   "cell_type": "code",
   "execution_count": 189,
   "metadata": {},
   "outputs": [
    {
     "data": {
      "image/png": "[encoded data removed]",
      "text/plain": [
       "<Figure size 560x480 with 1 Axes>"
      ]
     },
     "metadata": {},
     "output_type": "display_data"
    }
   ],
   "source": [
    "plt.figure(figsize=(7,6),dpi=80);\n",
    "sns.barplot(x=df[df['Importance']>0]['Importance'], y=df['index']);\n",
    "plt.ylabel('Features');\n",
    "plt.xlabel('Importance');\n",
    "plt.title('Feature importance > then 0');"
   ]
  },
  {
   "cell_type": "code",
   "execution_count": 824,
   "metadata": {
    "scrolled": true
   },
   "outputs": [
    {
     "name": "stdout",
     "output_type": "stream",
     "text": [
      "Variable: flag_work_phone      Importance: 0.18\n",
      "Variable: flag_cont_mobile     Importance: 0.16\n",
      "Variable: flag_emp_phone       Importance: 0.06\n",
      "Variable: cnt_fam_members      Importance: 0.04\n",
      "Variable: ext_source_2         Importance: 0.04\n",
      "Variable: flag_phone           Importance: 0.03\n",
      "Variable: ext_source_1         Importance: 0.03\n",
      "Variable: bureau_credit_type   Importance: 0.03\n",
      "Variable: amt_income_total     Importance: 0.02\n",
      "Variable: amt_credit           Importance: 0.02\n",
      "Variable: amt_annuity          Importance: 0.02\n",
      "Variable: name_type_suite      Importance: 0.02\n",
      "Variable: name_income_type     Importance: 0.02\n",
      "Variable: occupation_type      Importance: 0.02\n",
      "Variable: DTI_ratio            Importance: 0.02\n",
      "Variable: AGE_years            Importance: 0.02\n",
      "Variable: bureau_avg_amt_credit Importance: 0.02\n",
      "Variable: bureau_avr_term_loan Importance: 0.02\n",
      "Variable: pos_cnt_prev         Importance: 0.02\n",
      "Variable: cnt_children         Importance: 0.01\n",
      "Variable: name_family_status   Importance: 0.01\n",
      "Variable: amt_req_credit_bureau_day Importance: 0.01\n",
      "Variable: DAYS_EMPLOYED_years  Importance: 0.01\n",
      "Variable: LOAN_TERM_years      Importance: 0.01\n",
      "Variable: bureau_avg_cnt_prolong Importance: 0.01\n",
      "Variable: bureau_avg_amt_max_overdue Importance: 0.01\n",
      "Variable: bureau_max_pastdue_30_120 Importance: 0.01\n",
      "Variable: pos_avg_dpd          Importance: 0.01\n",
      "Variable: cc_cnt_prev          Importance: 0.01\n",
      "Variable: name_contract_type   Importance: 0.0\n",
      "Variable: flag_own_car         Importance: 0.0\n",
      "Variable: flag_own_realty      Importance: 0.0\n",
      "Variable: name_education_type  Importance: 0.0\n",
      "Variable: name_housing_type    Importance: 0.0\n",
      "Variable: region_population_relative Importance: 0.0\n",
      "Variable: days_registration    Importance: 0.0\n",
      "Variable: days_id_publish      Importance: 0.0\n",
      "Variable: flag_mobil           Importance: 0.0\n",
      "Variable: flag_email           Importance: 0.0\n",
      "Variable: ext_source_3         Importance: 0.0\n",
      "Variable: days_last_phone_change Importance: 0.0\n",
      "Variable: bureau_avg_days_overdue Importance: 0.0\n",
      "Variable: prev_app_cnt         Importance: 0.0\n",
      "Variable: prev_app_avg_amt     Importance: 0.0\n",
      "Variable: prev_app_cnt_cnt_reject Importance: 0.0\n",
      "Variable: prev_app_reject_ratio Importance: 0.0\n",
      "Variable: loan_cnt_loan        Importance: 0.0\n",
      "Variable: loan_avr_instalment  Importance: 0.0\n",
      "Variable: loan_dpd             Importance: 0.0\n"
     ]
    }
   ],
   "source": [
    "# Print out features and importances \n",
    "for pair in feature_importances:\n",
    "    print('Variable: {:20} Importance: {}'.format(*pair))"
   ]
  },
  {
   "cell_type": "markdown",
   "metadata": {},
   "source": [
    "# Analysis, modeling"
   ]
  },
  {
   "cell_type": "markdown",
   "metadata": {},
   "source": [
    "### Logistic regression"
   ]
  },
  {
   "cell_type": "code",
   "execution_count": null,
   "metadata": {},
   "outputs": [],
   "source": [
    "# start modeling with logistic regression and a few selected features"
   ]
  },
  {
   "cell_type": "code",
   "execution_count": 464,
   "metadata": {},
   "outputs": [],
   "source": [
    "def metrics_logit(X,y):\n",
    "    \n",
    "    '''\n",
    "    - takes set of features X and target values y as an input for training the model,\n",
    "    - splits them into training and test sets,\n",
    "    - handles class imbalance for target values,\n",
    "    - finds an optimal probability threshold that maximizes F1 score,\n",
    "    - finds and prints AUC score,\n",
    "    - shows ROC curve\n",
    "    \n",
    "    '''\n",
    "    \n",
    "    X_train, X_test, y_train, y_test = train_test_split(pd.get_dummies(X), y, \\\n",
    "                                                            test_size=0.3, random_state=42)\n",
    "    #solve for imbalanced data\n",
    "    lr = LogisticRegression(class_weight='balanced', solver='liblinear') \n",
    "    lr.fit(X_train, y_train)\n",
    "    \n",
    "    y_pred_prob = lr.predict_proba(X_test)[:,1]\n",
    "    thresh_p = np.linspace(0,1,1000)\n",
    "    \n",
    "    f1_scores = []\n",
    "    for p in thresh_p:\n",
    "        model_val_labels = y_pred_prob >= p\n",
    "        f1_scores.append(f1_score(y_test, model_val_labels))\n",
    "    \n",
    "    best_f1_score = np.max(f1_scores) \n",
    "    best_thresh_p = thresh_p[np.argmax(f1_scores)]\n",
    "    \n",
    "    AUC_score = roc_auc_score(y_test, y_pred_prob)\n",
    "\n",
    "    print('Logistic Regression Model best F1 score %.3f at prob decision threshold >= %.3f' \n",
    "          % (best_f1_score, best_thresh_p))\n",
    "    print('Logistic Regression Model AUC score %.3f' \n",
    "          % (AUC_score))\n",
    "    \n",
    "    plt.plot(thresh_p, f1_scores);\n",
    "    plt.show()\n",
    "    \n",
    "    fpr, tpr, thresholds = roc_curve(y_test, y_pred_prob)\n",
    "    # plot the roc curve for the model\n",
    "    plt.plot([0,1], [0,1], linestyle='--', label='No Skill')\n",
    "    plt.plot(fpr, tpr, marker='.', label='Logistic')\n",
    "    # axis labels\n",
    "    plt.xlabel('False Positive Rate')\n",
    "    plt.ylabel('True Positive Rate')\n",
    "    plt.legend()\n",
    "    # show the plot\n",
    "    plt.show()\n",
    "    return"
   ]
  },
  {
   "cell_type": "code",
   "execution_count": 460,
   "metadata": {},
   "outputs": [],
   "source": [
    "# make a model for the first few features (base model)\n",
    "\n",
    "X1 = df_merged_all[['name_education_type', 'DTI_ratio', 'AGE_years', 'DAYS_EMPLOYED_years', 'LOAN_TERM_years']]\n",
    "\n",
    "y1 = df_merged_all['target']"
   ]
  },
  {
   "cell_type": "code",
   "execution_count": 465,
   "metadata": {},
   "outputs": [
    {
     "name": "stdout",
     "output_type": "stream",
     "text": [
      "Logistic Regression Model best F1 score 0.197 at prob decision threshold >= 0.562\n",
      "Logistic Regression Model AUC score 0.623\n"
     ]
    },
    {
     "data": {
      "image/png": "[encoded data removed]",
      "text/plain": [
       "<Figure size 432x288 with 1 Axes>"
      ]
     },
     "metadata": {},
     "output_type": "display_data"
    },
    {
     "data": {
      "image/png": "[encoded data removed]",
      "text/plain": [
       "<Figure size 432x288 with 1 Axes>"
      ]
     },
     "metadata": {},
     "output_type": "display_data"
    }
   ],
   "source": [
    "metrics_logit(X1, y1)"
   ]
  },
  {
   "cell_type": "markdown",
   "metadata": {},
   "source": [
    "Just to compare - applying another imbalance techique"
   ]
  },
  {
   "cell_type": "code",
   "execution_count": 466,
   "metadata": {},
   "outputs": [],
   "source": [
    "import imblearn.over_sampling"
   ]
  },
  {
   "cell_type": "code",
   "execution_count": 474,
   "metadata": {},
   "outputs": [
    {
     "name": "stdout",
     "output_type": "stream",
     "text": [
      "Logistic Regression on SMOTE Train Data; Test F1: 0.172, Test AUC: 0.585\n"
     ]
    }
   ],
   "source": [
    "smote = imblearn.over_sampling.SMOTE(random_state = 42)\n",
    "    \n",
    "X_tr_smote, y_tr_smote = smote.fit_sample(X_train, y_train)\n",
    "\n",
    "lr_smote = LogisticRegression(solver='liblinear') \n",
    "lr_smote.fit(X_tr_smote, y_tr_smote)\n",
    "\n",
    "print('Logistic Regression on SMOTE Train Data; Test F1: %.3f, Test AUC: %.3f' % \\\n",
    "      (f1_score(y_test, lr_smote.predict(X_test)), roc_auc_score(y_test, lr_smote.predict_proba(X_test)[:,1])))"
   ]
  },
  {
   "cell_type": "markdown",
   "metadata": {},
   "source": [
    "Results are better using **_class_weight='balanced'_**<br>\n",
    "Continue working with **_'balanced'_** parameter"
   ]
  },
  {
   "cell_type": "code",
   "execution_count": 496,
   "metadata": {},
   "outputs": [],
   "source": [
    "# Adding more features\n",
    "\n",
    "X2 = df_merged_all[['name_education_type', 'days_id_publish', \n",
    "       'DTI_ratio', 'AGE_years', 'DAYS_EMPLOYED_years', 'LOAN_TERM_years',\n",
    "       'bureau_avg_days_overdue', 'bureau_avg_cnt_prolong',\n",
    "       'bureau_max_pastdue_30_120']]\n",
    "\n",
    "y2 = df_merged_all['target']"
   ]
  },
  {
   "cell_type": "code",
   "execution_count": 497,
   "metadata": {
    "collapsed": true
   },
   "outputs": [
    {
     "name": "stderr",
     "output_type": "stream",
     "text": [
      "/Users/Daria/opt/anaconda3/lib/python3.7/site-packages/pandas/core/frame.py:4153: SettingWithCopyWarning: \n",
      "A value is trying to be set on a copy of a slice from a DataFrame\n",
      "\n",
      "See the caveats in the documentation: https://pandas.pydata.org/pandas-docs/stable/user_guide/indexing.html#returning-a-view-versus-a-copy\n",
      "  downcast=downcast,\n"
     ]
    }
   ],
   "source": [
    "X2.fillna(0, inplace=True)"
   ]
  },
  {
   "cell_type": "code",
   "execution_count": 498,
   "metadata": {},
   "outputs": [
    {
     "name": "stdout",
     "output_type": "stream",
     "text": [
      "Logistic Regression Model best F1 score 0.198 at prob decision threshold >= 0.552\n",
      "Logistic Regression Model AUC score 0.630\n"
     ]
    },
    {
     "data": {
      "image/png": "[encoded data removed]",
      "text/plain": [
       "<Figure size 432x288 with 1 Axes>"
      ]
     },
     "metadata": {},
     "output_type": "display_data"
    },
    {
     "data": {
      "image/png": "[encoded data removed]",
      "text/plain": [
       "<Figure size 432x288 with 1 Axes>"
      ]
     },
     "metadata": {},
     "output_type": "display_data"
    }
   ],
   "source": [
    "# got slightly bettet results\n",
    "\n",
    "metrics_logit(X2, y2)"
   ]
  },
  {
   "cell_type": "markdown",
   "metadata": {},
   "source": [
    "Trying all features that I have"
   ]
  },
  {
   "cell_type": "code",
   "execution_count": 499,
   "metadata": {},
   "outputs": [],
   "source": [
    "X3 = df_merged_all[['name_contract_type', 'flag_own_car',\n",
    "       'flag_own_realty', 'cnt_children', 'amt_income_total', 'amt_credit',\n",
    "       'amt_annuity', 'name_type_suite', 'name_income_type',\n",
    "       'name_education_type', 'name_family_status', 'name_housing_type',\n",
    "       'region_population_relative', \n",
    "       'days_registration', 'days_id_publish', 'flag_mobil', 'flag_emp_phone',\n",
    "       'flag_work_phone', 'flag_cont_mobile', 'flag_phone', 'flag_email',\n",
    "       'occupation_type', 'cnt_fam_members', 'ext_source_1', 'ext_source_2',\n",
    "       'ext_source_3', 'days_last_phone_change', 'amt_req_credit_bureau_day',\n",
    "       'DTI_ratio', 'AGE_years', 'DAYS_EMPLOYED_years', 'LOAN_TERM_years',\n",
    "       'bureau_avg_days_overdue', 'bureau_avg_cnt_prolong',\n",
    "       'bureau_avg_amt_max_overdue', 'bureau_avg_amt_credit',\n",
    "       'bureau_credit_type', 'bureau_max_pastdue_30_120',\n",
    "       'bureau_avr_term_loan', 'pos_cnt_prev', 'pos_avg_dpd', 'cc_cnt_prev',\n",
    "       'prev_app_cnt', 'prev_app_avg_amt', 'prev_app_cnt_cnt_reject',\n",
    "       'prev_app_reject_ratio', 'loan_cnt_loan', 'loan_avr_instalment',\n",
    "       'loan_dpd']]\n",
    "\n",
    "y3 = df_merged_all['target']"
   ]
  },
  {
   "cell_type": "code",
   "execution_count": 500,
   "metadata": {
    "collapsed": true
   },
   "outputs": [
    {
     "name": "stderr",
     "output_type": "stream",
     "text": [
      "/Users/Daria/opt/anaconda3/lib/python3.7/site-packages/pandas/core/frame.py:4153: SettingWithCopyWarning: \n",
      "A value is trying to be set on a copy of a slice from a DataFrame\n",
      "\n",
      "See the caveats in the documentation: https://pandas.pydata.org/pandas-docs/stable/user_guide/indexing.html#returning-a-view-versus-a-copy\n",
      "  downcast=downcast,\n"
     ]
    }
   ],
   "source": [
    "X3.fillna(0, inplace=True)"
   ]
  },
  {
   "cell_type": "code",
   "execution_count": 501,
   "metadata": {},
   "outputs": [
    {
     "name": "stdout",
     "output_type": "stream",
     "text": [
      "Logistic Regression Model best F1 score 0.222 at prob decision threshold >= 0.560\n",
      "Logistic Regression Model AUC score 0.667\n"
     ]
    },
    {
     "data": {
      "image/png": "[encoded data removed]",
      "text/plain": [
       "<Figure size 432x288 with 1 Axes>"
      ]
     },
     "metadata": {},
     "output_type": "display_data"
    },
    {
     "data": {
      "image/png": "[encoded data removed]",
      "text/plain": [
       "<Figure size 432x288 with 1 Axes>"
      ]
     },
     "metadata": {},
     "output_type": "display_data"
    }
   ],
   "source": [
    "metrics_logit(X3, y3)"
   ]
  },
  {
   "cell_type": "markdown",
   "metadata": {},
   "source": [
    "Results are better, however, want to select particular features that might help with performance"
   ]
  },
  {
   "cell_type": "markdown",
   "metadata": {},
   "source": [
    "**Model with selected features using previous feature importance**"
   ]
  },
  {
   "cell_type": "code",
   "execution_count": 504,
   "metadata": {},
   "outputs": [],
   "source": [
    "X4 = df_merged_all[['amt_income_total', 'amt_credit',\n",
    "       'amt_annuity', 'name_type_suite', 'name_income_type',\n",
    "       'name_family_status', \n",
    "       'flag_emp_phone',\n",
    "       'flag_work_phone', 'flag_cont_mobile', 'flag_phone',\n",
    "       'cnt_fam_members', 'ext_source_1', 'ext_source_2',\n",
    "       'amt_req_credit_bureau_day',\n",
    "       'AGE_years', 'DAYS_EMPLOYED_years', 'LOAN_TERM_years',\n",
    "       'bureau_avg_amt_credit',\n",
    "       'bureau_credit_type', 'cc_cnt_prev']]\n",
    "\n",
    "y4 = df_merged_all['target']"
   ]
  },
  {
   "cell_type": "code",
   "execution_count": 505,
   "metadata": {
    "collapsed": true
   },
   "outputs": [
    {
     "name": "stderr",
     "output_type": "stream",
     "text": [
      "/Users/Daria/opt/anaconda3/lib/python3.7/site-packages/pandas/core/frame.py:4153: SettingWithCopyWarning: \n",
      "A value is trying to be set on a copy of a slice from a DataFrame\n",
      "\n",
      "See the caveats in the documentation: https://pandas.pydata.org/pandas-docs/stable/user_guide/indexing.html#returning-a-view-versus-a-copy\n",
      "  downcast=downcast,\n"
     ]
    }
   ],
   "source": [
    "X4.fillna(0, inplace=True)"
   ]
  },
  {
   "cell_type": "code",
   "execution_count": 506,
   "metadata": {},
   "outputs": [
    {
     "name": "stdout",
     "output_type": "stream",
     "text": [
      "Logistic Regression Model best F1 score 0.178 at prob decision threshold >= 0.489\n",
      "Logistic Regression Model AUC score 0.595\n"
     ]
    },
    {
     "data": {
      "image/png": "[encoded data removed]",
      "text/plain": [
       "<Figure size 432x288 with 1 Axes>"
      ]
     },
     "metadata": {},
     "output_type": "display_data"
    },
    {
     "data": {
      "image/png": "[encoded data removed]",
      "text/plain": [
       "<Figure size 432x288 with 1 Axes>"
      ]
     },
     "metadata": {},
     "output_type": "display_data"
    }
   ],
   "source": [
    "metrics_logit(X4, y4)"
   ]
  },
  {
   "cell_type": "markdown",
   "metadata": {},
   "source": [
    "Selected features didn't work as expected --> continue with model feature 2"
   ]
  },
  {
   "cell_type": "code",
   "execution_count": 636,
   "metadata": {},
   "outputs": [],
   "source": [
    "X5 = df_merged_all[['flag_own_realty', 'flag_own_car', 'name_income_type','name_family_status', \n",
    "                    'name_housing_type','region_population_relative','days_id_publish','flag_mobil', \n",
    "                    'flag_emp_phone', 'flag_work_phone', 'flag_cont_mobile','occupation_type',\n",
    "                    'ext_source_1', 'ext_source_2','ext_source_3',\n",
    "                    'days_last_phone_change', \n",
    "                    'amt_req_credit_bureau_day','name_contract_type', 'name_education_type', #'days_id_publish', \n",
    "                    'DTI_ratio', 'AGE_years', 'DAYS_EMPLOYED_years', 'LOAN_TERM_years',\n",
    "                    'bureau_avg_days_overdue', 'bureau_avg_cnt_prolong',\n",
    "                    'bureau_max_pastdue_30_120', 'pos_avg_dpd', 'cc_cnt_prev',\n",
    "                    'prev_app_reject_ratio', 'loan_cnt_loan', 'loan_avr_instalment',\n",
    "                    'loan_dpd']]\n",
    "\n",
    "y5 = df_merged_all['target']"
   ]
  },
  {
   "cell_type": "code",
   "execution_count": 637,
   "metadata": {
    "collapsed": true
   },
   "outputs": [
    {
     "name": "stderr",
     "output_type": "stream",
     "text": [
      "/Users/Daria/opt/anaconda3/lib/python3.7/site-packages/pandas/core/frame.py:4153: SettingWithCopyWarning: \n",
      "A value is trying to be set on a copy of a slice from a DataFrame\n",
      "\n",
      "See the caveats in the documentation: https://pandas.pydata.org/pandas-docs/stable/user_guide/indexing.html#returning-a-view-versus-a-copy\n",
      "  downcast=downcast,\n"
     ]
    }
   ],
   "source": [
    "X5.fillna(0, inplace=True)"
   ]
  },
  {
   "cell_type": "code",
   "execution_count": 638,
   "metadata": {
    "scrolled": false
   },
   "outputs": [
    {
     "name": "stdout",
     "output_type": "stream",
     "text": [
      "Logistic Regression Model best F1 score 0.270 at prob decision threshold >= 0.633\n",
      "Logistic Regression Model AUC score 0.726\n"
     ]
    },
    {
     "data": {
      "image/png": "[encoded data removed]",
      "text/plain": [
       "<Figure size 432x288 with 1 Axes>"
      ]
     },
     "metadata": {},
     "output_type": "display_data"
    },
    {
     "data": {
      "image/png": "[encoded data removed]",
      "text/plain": [
       "<Figure size 432x288 with 1 Axes>"
      ]
     },
     "metadata": {},
     "output_type": "display_data"
    }
   ],
   "source": [
    "metrics_logit(X5, y5)"
   ]
  },
  {
   "cell_type": "code",
   "execution_count": 1150,
   "metadata": {
    "scrolled": true
   },
   "outputs": [
    {
     "name": "stdout",
     "output_type": "stream",
     "text": [
      "Logistic Regression Model best F1 score 0.270 at prob decision threshold >= 0.633\n",
      "Logistic Regression Model AUC score 0.726\n"
     ]
    }
   ],
   "source": [
    "X_train, X_test, y_train, y_test = train_test_split(pd.get_dummies(X5), y5, \\\n",
    "                                                            test_size=0.3, random_state=42)\n",
    "#solve for imbalanced data\n",
    "lr = LogisticRegression(class_weight='balanced', solver='liblinear') \n",
    "lr.fit(X_train, y_train)\n",
    "\n",
    "y_pred_prob = lr.predict_proba(X_test)[:,1]\n",
    "thresh_p = np.linspace(0,1,1000)\n",
    "\n",
    "f1_scores = []\n",
    "for p in thresh_p:\n",
    "    model_val_labels = y_pred_prob >= p\n",
    "    f1_scores.append(f1_score(y_test, model_val_labels))\n",
    "\n",
    "best_f1_score = np.max(f1_scores) \n",
    "best_thresh_p = thresh_p[np.argmax(f1_scores)]\n",
    "\n",
    "AUC_score = roc_auc_score(y_test, y_pred_prob)\n",
    "\n",
    "print('Logistic Regression Model best F1 score %.3f at prob decision threshold >= %.3f' \n",
    "      % (best_f1_score, best_thresh_p))\n",
    "print('Logistic Regression Model AUC score %.3f' \n",
    "      % (AUC_score))"
   ]
  },
  {
   "cell_type": "code",
   "execution_count": 1151,
   "metadata": {},
   "outputs": [
    {
     "data": {
      "image/png": "[encoded data removed]",
      "text/plain": [
       "<Figure size 432x288 with 1 Axes>"
      ]
     },
     "metadata": {},
     "output_type": "display_data"
    }
   ],
   "source": [
    "plt.plot(thresh_p, f1_scores);\n",
    "plt.show()"
   ]
  },
  {
   "cell_type": "code",
   "execution_count": 1099,
   "metadata": {},
   "outputs": [],
   "source": [
    "y_pred_prob_lr = y_pred_prob\n",
    "y_test_lr = y_test"
   ]
  },
  {
   "cell_type": "code",
   "execution_count": 1096,
   "metadata": {
    "scrolled": false
   },
   "outputs": [
    {
     "data": {
      "image/png": "[encoded data removed]",
      "text/plain": [
       "<Figure size 540x360 with 2 Axes>"
      ]
     },
     "metadata": {},
     "output_type": "display_data"
    }
   ],
   "source": [
    "lr_confusion = confusion_matrix(y_test, (y_pred_proba_rf >=best_thresh_p))\n",
    "plt.figure(dpi=90)\n",
    "sns.heatmap(lr_confusion/np.sum(lr_confusion), cmap=plt.cm.Blues, annot=True, square=True, fmt='.2%')\n",
    "\n",
    "\n",
    "plt.xlabel('Predicted')\n",
    "plt.ylabel('Actual')\n",
    "plt.title('Logistic regression confusion matrix', fontsize=15);"
   ]
  },
  {
   "cell_type": "code",
   "execution_count": 1247,
   "metadata": {
    "scrolled": true
   },
   "outputs": [
    {
     "data": {
      "text/plain": [
       "array([[79366,  5517],\n",
       "       [ 5383,  1983]])"
      ]
     },
     "execution_count": 1247,
     "metadata": {},
     "output_type": "execute_result"
    }
   ],
   "source": [
    "lr_confusion"
   ]
  },
  {
   "cell_type": "code",
   "execution_count": 1248,
   "metadata": {},
   "outputs": [
    {
     "data": {
      "text/plain": [
       "0.2692098832473527"
      ]
     },
     "execution_count": 1248,
     "metadata": {},
     "output_type": "execute_result"
    }
   ],
   "source": [
    "1983/(1983+5383)"
   ]
  },
  {
   "cell_type": "markdown",
   "metadata": {},
   "source": [
    "### Random forest"
   ]
  },
  {
   "cell_type": "code",
   "execution_count": 667,
   "metadata": {},
   "outputs": [],
   "source": [
    "X_train, X_test, y_train, y_test = train_test_split(pd.get_dummies(X5), y5, \\\n",
    "                                                            test_size=0.3, random_state=42)"
   ]
  },
  {
   "cell_type": "code",
   "execution_count": 668,
   "metadata": {},
   "outputs": [
    {
     "name": "stdout",
     "output_type": "stream",
     "text": [
      "n_estimators: 100 Max_depth: 5 AUC: 0.7264291108418072\n",
      "n_estimators: 100 Max_depth: 10 AUC: 0.7361600484343994\n",
      "n_estimators: 500 Max_depth: 5 AUC: 0.7261405726159509\n",
      "n_estimators: 500 Max_depth: 10 AUC: 0.7375523819599199\n",
      "n_estimators: 1000 Max_depth: 5 AUC: 0.7267308982066318\n",
      "n_estimators: 1000 Max_depth: 10 AUC: 0.737683030881219\n"
     ]
    }
   ],
   "source": [
    "n_estimators = [100, 500, 1000]\n",
    "max_depth = [5,10]\n",
    "\n",
    "for n in n_estimators:\n",
    "    for depth in max_depth:\n",
    "        rf = RandomForestClassifier(n_estimators=n, class_weight='balanced', max_depth=depth, n_jobs=1)\n",
    "        rf.fit(X_train, y_train)\n",
    "        y_pred_proba = rf.predict_proba(X_test)[:,1]\n",
    "        AUC = roc_auc_score(y_test, y_pred_proba)\n",
    "        print('n_estimators: {} Max_depth: {} AUC: {}'.format(n, depth, AUC))"
   ]
  },
  {
   "cell_type": "code",
   "execution_count": 671,
   "metadata": {},
   "outputs": [
    {
     "data": {
      "text/plain": [
       "RandomForestClassifier(bootstrap=True, ccp_alpha=0.0, class_weight='balanced',\n",
       "                       criterion='gini', max_depth=10, max_features='auto',\n",
       "                       max_leaf_nodes=None, max_samples=None,\n",
       "                       min_impurity_decrease=0.0, min_impurity_split=None,\n",
       "                       min_samples_leaf=1, min_samples_split=2,\n",
       "                       min_weight_fraction_leaf=0.0, n_estimators=1000,\n",
       "                       n_jobs=1, oob_score=False, random_state=None, verbose=0,\n",
       "                       warm_start=False)"
      ]
     },
     "execution_count": 671,
     "metadata": {},
     "output_type": "execute_result"
    }
   ],
   "source": [
    "rf = RandomForestClassifier(n_estimators=1000, class_weight='balanced', max_depth=10, n_jobs=1)\n",
    "rf.fit(X_train, y_train)"
   ]
  },
  {
   "cell_type": "code",
   "execution_count": 672,
   "metadata": {},
   "outputs": [],
   "source": [
    "y_pred_proba = rf.predict_proba(X_test)[:,1]"
   ]
  },
  {
   "cell_type": "code",
   "execution_count": 673,
   "metadata": {},
   "outputs": [],
   "source": [
    "AUC = roc_auc_score(y_test, y_pred_proba)"
   ]
  },
  {
   "cell_type": "code",
   "execution_count": 674,
   "metadata": {
    "scrolled": true
   },
   "outputs": [
    {
     "data": {
      "text/plain": [
       "0.7376340071477985"
      ]
     },
     "execution_count": 674,
     "metadata": {},
     "output_type": "execute_result"
    }
   ],
   "source": [
    "AUC"
   ]
  },
  {
   "cell_type": "code",
   "execution_count": 1107,
   "metadata": {},
   "outputs": [],
   "source": [
    "### Checking Random Rorest on an absurd value instead of 0, if its NULL\n",
    "X00 = df_merged_all[['flag_own_realty', 'flag_own_car', 'name_income_type','name_family_status', \n",
    "                    'name_housing_type','region_population_relative','days_id_publish','flag_mobil', \n",
    "                    'flag_emp_phone', 'flag_work_phone', 'flag_cont_mobile','occupation_type',\n",
    "                    'ext_source_1', 'ext_source_2','ext_source_3',\n",
    "                    'days_last_phone_change', \n",
    "                    'amt_req_credit_bureau_day','name_contract_type', 'name_education_type', #'days_id_publish', \n",
    "                    'DTI_ratio', 'AGE_years', 'DAYS_EMPLOYED_years', 'LOAN_TERM_years',\n",
    "                    'bureau_avg_days_overdue', 'bureau_avg_cnt_prolong',\n",
    "                    'bureau_max_pastdue_30_120', 'pos_avg_dpd', 'cc_cnt_prev',\n",
    "                    'prev_app_reject_ratio', 'loan_cnt_loan', 'loan_avr_instalment',\n",
    "                    'loan_dpd']]\n",
    "\n",
    "y00 = df_merged_all['target']"
   ]
  },
  {
   "cell_type": "code",
   "execution_count": 1108,
   "metadata": {
    "collapsed": true
   },
   "outputs": [
    {
     "name": "stderr",
     "output_type": "stream",
     "text": [
      "/Users/Daria/opt/anaconda3/lib/python3.7/site-packages/pandas/core/frame.py:4153: SettingWithCopyWarning: \n",
      "A value is trying to be set on a copy of a slice from a DataFrame\n",
      "\n",
      "See the caveats in the documentation: https://pandas.pydata.org/pandas-docs/stable/user_guide/indexing.html#returning-a-view-versus-a-copy\n",
      "  downcast=downcast,\n"
     ]
    }
   ],
   "source": [
    "X00.fillna(-9999, inplace=True)"
   ]
  },
  {
   "cell_type": "code",
   "execution_count": 1109,
   "metadata": {},
   "outputs": [],
   "source": [
    "X0_train, X0_test, y0_train, y0_test = train_test_split(pd.get_dummies(X00), y00, \\\n",
    "                                                            test_size=0.3, random_state=42)"
   ]
  },
  {
   "cell_type": "code",
   "execution_count": 1110,
   "metadata": {
    "scrolled": true
   },
   "outputs": [
    {
     "data": {
      "text/plain": [
       "RandomForestClassifier(bootstrap=True, ccp_alpha=0.0, class_weight='balanced',\n",
       "                       criterion='gini', max_depth=10, max_features='auto',\n",
       "                       max_leaf_nodes=None, max_samples=None,\n",
       "                       min_impurity_decrease=0.0, min_impurity_split=None,\n",
       "                       min_samples_leaf=1, min_samples_split=2,\n",
       "                       min_weight_fraction_leaf=0.0, n_estimators=1000,\n",
       "                       n_jobs=1, oob_score=False, random_state=None, verbose=0,\n",
       "                       warm_start=False)"
      ]
     },
     "execution_count": 1110,
     "metadata": {},
     "output_type": "execute_result"
    }
   ],
   "source": [
    "rf = RandomForestClassifier(n_estimators=1000, class_weight='balanced', max_depth=10, n_jobs=1)\n",
    "rf.fit(X0_train, y0_train)"
   ]
  },
  {
   "cell_type": "code",
   "execution_count": 1134,
   "metadata": {},
   "outputs": [],
   "source": [
    "y_pred_proba_rf = rf.predict_proba(X0_test)[:,1]"
   ]
  },
  {
   "cell_type": "code",
   "execution_count": 1112,
   "metadata": {},
   "outputs": [],
   "source": [
    "AUC_rf = roc_auc_score(y0_test, y_pred_proba_rf)"
   ]
  },
  {
   "cell_type": "code",
   "execution_count": 1113,
   "metadata": {
    "scrolled": true
   },
   "outputs": [
    {
     "data": {
      "text/plain": [
       "0.7377712022697009"
      ]
     },
     "execution_count": 1113,
     "metadata": {},
     "output_type": "execute_result"
    }
   ],
   "source": [
    "##Performance got sightly better\n",
    "AUC_rf"
   ]
  },
  {
   "cell_type": "code",
   "execution_count": 1125,
   "metadata": {},
   "outputs": [],
   "source": [
    "thresh_p = np.linspace(0,1,1000)\n",
    "f1_scores_rf = []\n",
    "y_pred_proba_rf = rf.predict_proba(X0_test)[:,1]    \n",
    "\n",
    "for p in thresh_p:\n",
    "    model_val_labels = y_pred_proba_rf >= p\n",
    "    f1_scores_rf.append(f1_score(y0_test, model_val_labels))\n",
    "\n"
   ]
  },
  {
   "cell_type": "code",
   "execution_count": 1126,
   "metadata": {},
   "outputs": [],
   "source": [
    "best_f1_score_rf = np.max(f1_scores_rf) \n",
    "best_thresh_p = thresh_p[np.argmax(f1_scores_rf)]"
   ]
  },
  {
   "cell_type": "code",
   "execution_count": 1127,
   "metadata": {},
   "outputs": [
    {
     "data": {
      "text/plain": [
       "(0.2866265965439519, 0.5785785785785785)"
      ]
     },
     "execution_count": 1127,
     "metadata": {},
     "output_type": "execute_result"
    }
   ],
   "source": [
    "best_f1_score_rf, best_thresh_p"
   ]
  },
  {
   "cell_type": "code",
   "execution_count": 1135,
   "metadata": {},
   "outputs": [
    {
     "data": {
      "image/png": "[encoded data removed]",
      "text/plain": [
       "<Figure size 432x288 with 1 Axes>"
      ]
     },
     "metadata": {},
     "output_type": "display_data"
    }
   ],
   "source": [
    "fpr_rf, tpr_rf, thresholds_rf = roc_curve(y0_test, y_pred_proba_rf)\n",
    "# plot the roc curve for the model\n",
    "plt.plot([0,1], [0,1], linestyle='--', label='No Skill')\n",
    "plt.plot(fpr_rf, tpr_rf, label='Logistic')\n",
    "# axis labels\n",
    "plt.xlabel('False Positive Rate')\n",
    "plt.ylabel('True Positive Rate')\n",
    "plt.legend()\n",
    "# show the plot\n",
    "plt.show()"
   ]
  },
  {
   "cell_type": "code",
   "execution_count": 1086,
   "metadata": {
    "scrolled": false
   },
   "outputs": [
    {
     "data": {
      "image/png": "[encoded data removed]",
      "text/plain": [
       "<Figure size 540x360 with 2 Axes>"
      ]
     },
     "metadata": {},
     "output_type": "display_data"
    }
   ],
   "source": [
    "rf_confusion = confusion_matrix(y_test, (y_pred_proba_rf >=best_thresh_p))\n",
    "plt.figure(dpi=90)\n",
    "sns.heatmap(rf_confusion/np.sum(rf_confusion), cmap=plt.cm.Blues, annot=True, square=True, fmt='.2%')\n",
    "\n",
    "\n",
    "plt.xlabel('Predicted')\n",
    "plt.ylabel('Actual')\n",
    "plt.title('Random Forest confusion matrix', fontsize=15);"
   ]
  },
  {
   "cell_type": "code",
   "execution_count": 1079,
   "metadata": {},
   "outputs": [
    {
     "data": {
      "text/plain": [
       "array([[79435,  5448],\n",
       "       [ 5410,  1956]])"
      ]
     },
     "execution_count": 1079,
     "metadata": {},
     "output_type": "execute_result"
    }
   ],
   "source": [
    "rf_confusion"
   ]
  },
  {
   "cell_type": "code",
   "execution_count": 1246,
   "metadata": {},
   "outputs": [
    {
     "data": {
      "text/plain": [
       "0.26554439315775186"
      ]
     },
     "execution_count": 1246,
     "metadata": {},
     "output_type": "execute_result"
    }
   ],
   "source": [
    "1956/(1956+5410)"
   ]
  },
  {
   "cell_type": "markdown",
   "metadata": {},
   "source": [
    "## XGBoost"
   ]
  },
  {
   "cell_type": "code",
   "execution_count": 595,
   "metadata": {},
   "outputs": [],
   "source": [
    "import xgboost as xgb"
   ]
  },
  {
   "cell_type": "code",
   "execution_count": 1146,
   "metadata": {},
   "outputs": [],
   "source": [
    "X6 = df_merged_all[['flag_own_realty', 'flag_own_car', 'name_income_type','name_family_status', \n",
    "                    'name_housing_type','region_population_relative','flag_mobil', \n",
    "                    'flag_emp_phone', 'flag_work_phone', 'flag_cont_mobile','occupation_type',\n",
    "                    'ext_source_1', 'ext_source_2','ext_source_3',\n",
    "                    'days_last_phone_change', \n",
    "                    'amt_req_credit_bureau_day','name_contract_type', 'name_education_type', 'days_id_publish', \n",
    "                    'DTI_ratio', 'AGE_years', 'DAYS_EMPLOYED_years', 'LOAN_TERM_years',\n",
    "                    'bureau_avg_days_overdue', 'bureau_avg_cnt_prolong',\n",
    "                    'bureau_max_pastdue_30_120', 'pos_avg_dpd', 'cc_cnt_prev',\n",
    "                    'prev_app_reject_ratio', 'loan_cnt_loan', 'loan_avr_instalment',\n",
    "                    'loan_dpd']]\n",
    "\n",
    "y6 = df_merged_all['target']"
   ]
  },
  {
   "cell_type": "code",
   "execution_count": 630,
   "metadata": {},
   "outputs": [],
   "source": [
    "#duplicate_columns = X6.columns[X6.columns.duplicated()]"
   ]
  },
  {
   "cell_type": "code",
   "execution_count": 631,
   "metadata": {
    "scrolled": true
   },
   "outputs": [
    {
     "data": {
      "text/plain": [
       "Index([], dtype='object')"
      ]
     },
     "execution_count": 631,
     "metadata": {},
     "output_type": "execute_result"
    }
   ],
   "source": [
    "#duplicate_columns"
   ]
  },
  {
   "cell_type": "code",
   "execution_count": 1147,
   "metadata": {
    "scrolled": true
   },
   "outputs": [
    {
     "data": {
      "text/plain": [
       "0    282672\n",
       "1     24824\n",
       "Name: target, dtype: int64"
      ]
     },
     "execution_count": 1147,
     "metadata": {},
     "output_type": "execute_result"
    }
   ],
   "source": [
    "y6.value_counts()"
   ]
  },
  {
   "cell_type": "code",
   "execution_count": 791,
   "metadata": {},
   "outputs": [
    {
     "data": {
      "text/plain": [
       "11.38704479535933"
      ]
     },
     "execution_count": 791,
     "metadata": {},
     "output_type": "execute_result"
    }
   ],
   "source": [
    "282672/24824"
   ]
  },
  {
   "cell_type": "code",
   "execution_count": 1148,
   "metadata": {},
   "outputs": [],
   "source": [
    "#Split data into 3: 60% train, 20% validation, 20% test\n",
    "X_train, X_test, y_train, y_test = train_test_split(pd.get_dummies(X6), y6, test_size=0.2, random_state=42)\n",
    "X_train, X_val, y_train, y_val = train_test_split(X_train, y_train, test_size=0.25, random_state=42)"
   ]
  },
  {
   "cell_type": "code",
   "execution_count": 1149,
   "metadata": {},
   "outputs": [
    {
     "name": "stdout",
     "output_type": "stream",
     "text": [
      "[0]\tvalidation_0-auc:0.73535\tvalidation_1-auc:0.71359\n",
      "Multiple eval metrics have been passed: 'validation_1-auc' will be used for early stopping.\n",
      "\n",
      "Will train until validation_1-auc hasn't improved in 20 rounds.\n",
      "[1]\tvalidation_0-auc:0.75340\tvalidation_1-auc:0.72353\n",
      "[2]\tvalidation_0-auc:0.76381\tvalidation_1-auc:0.72895\n",
      "[3]\tvalidation_0-auc:0.77253\tvalidation_1-auc:0.73274\n",
      "[4]\tvalidation_0-auc:0.77968\tvalidation_1-auc:0.73782\n",
      "[5]\tvalidation_0-auc:0.78431\tvalidation_1-auc:0.73795\n",
      "[6]\tvalidation_0-auc:0.78918\tvalidation_1-auc:0.73997\n",
      "[7]\tvalidation_0-auc:0.79533\tvalidation_1-auc:0.74136\n",
      "[8]\tvalidation_0-auc:0.79953\tvalidation_1-auc:0.74173\n",
      "[9]\tvalidation_0-auc:0.80202\tvalidation_1-auc:0.74271\n",
      "[10]\tvalidation_0-auc:0.80481\tvalidation_1-auc:0.74290\n",
      "[11]\tvalidation_0-auc:0.80756\tvalidation_1-auc:0.74245\n",
      "[12]\tvalidation_0-auc:0.80877\tvalidation_1-auc:0.74312\n",
      "[13]\tvalidation_0-auc:0.81088\tvalidation_1-auc:0.74431\n",
      "[14]\tvalidation_0-auc:0.81373\tvalidation_1-auc:0.74344\n",
      "[15]\tvalidation_0-auc:0.81478\tvalidation_1-auc:0.74309\n",
      "[16]\tvalidation_0-auc:0.81851\tvalidation_1-auc:0.74325\n",
      "[17]\tvalidation_0-auc:0.82070\tvalidation_1-auc:0.74232\n",
      "[18]\tvalidation_0-auc:0.82243\tvalidation_1-auc:0.74189\n",
      "[19]\tvalidation_0-auc:0.82331\tvalidation_1-auc:0.74177\n",
      "[20]\tvalidation_0-auc:0.82485\tvalidation_1-auc:0.74154\n",
      "[21]\tvalidation_0-auc:0.82726\tvalidation_1-auc:0.74149\n",
      "[22]\tvalidation_0-auc:0.83170\tvalidation_1-auc:0.74314\n",
      "[23]\tvalidation_0-auc:0.83225\tvalidation_1-auc:0.74333\n",
      "[24]\tvalidation_0-auc:0.83498\tvalidation_1-auc:0.74261\n",
      "[25]\tvalidation_0-auc:0.83611\tvalidation_1-auc:0.74231\n",
      "[26]\tvalidation_0-auc:0.83781\tvalidation_1-auc:0.74268\n",
      "[27]\tvalidation_0-auc:0.84002\tvalidation_1-auc:0.74262\n",
      "[28]\tvalidation_0-auc:0.84131\tvalidation_1-auc:0.74286\n",
      "[29]\tvalidation_0-auc:0.84323\tvalidation_1-auc:0.74234\n",
      "[30]\tvalidation_0-auc:0.84369\tvalidation_1-auc:0.74237\n",
      "[31]\tvalidation_0-auc:0.84470\tvalidation_1-auc:0.74253\n",
      "[32]\tvalidation_0-auc:0.84567\tvalidation_1-auc:0.74229\n",
      "[33]\tvalidation_0-auc:0.84625\tvalidation_1-auc:0.74222\n",
      "Stopping. Best iteration:\n",
      "[13]\tvalidation_0-auc:0.81088\tvalidation_1-auc:0.74431\n",
      "\n"
     ]
    }
   ],
   "source": [
    "gbm = xgb.XGBClassifier( \n",
    "                        n_estimators=30000,\n",
    "                        max_depth=7,\n",
    "                        objective='binary:logistic', #new objective\n",
    "                        learning_rate=.1, \n",
    "                        subsample=.8,\n",
    "                        min_child_weight=12,\n",
    "                        n_jobs=1,\n",
    "                        colsample_bytree=.7,\n",
    "                        scale_pos_weight=5 #best so far\n",
    "                       )\n",
    "\n",
    "eval_set=[(X_train,y_train),(X_val,y_val)]\n",
    "fit_model = gbm.fit( \n",
    "                    X_train, y_train, \n",
    "                    eval_set=eval_set,\n",
    "                    eval_metric='auc', \n",
    "                    early_stopping_rounds=20,\n",
    "                    verbose=True)"
   ]
  },
  {
   "cell_type": "code",
   "execution_count": 665,
   "metadata": {},
   "outputs": [
    {
     "data": {
      "text/plain": [
       "0.7443154236149433"
      ]
     },
     "execution_count": 665,
     "metadata": {},
     "output_type": "execute_result"
    }
   ],
   "source": [
    "roc_auc_score(y_val, gbm.predict_proba(X_val, ntree_limit=gbm.best_ntree_limit)[:,1]) "
   ]
  },
  {
   "cell_type": "markdown",
   "metadata": {},
   "source": [
    "## Model comparison (ROC curve)"
   ]
  },
  {
   "cell_type": "code",
   "execution_count": 1142,
   "metadata": {
    "scrolled": false
   },
   "outputs": [
    {
     "data": {
      "image/png": "[encoded data removed]",
      "text/plain": [
       "<Figure size 504x432 with 1 Axes>"
      ]
     },
     "metadata": {},
     "output_type": "display_data"
    }
   ],
   "source": [
    "fpr, tpr, thresholds = roc_curve(y_val, gbm.predict_proba(X_val, ntree_limit=gbm.best_ntree_limit)[:,1])\n",
    "\n",
    "fpr_l, tpr_l, thresholds_lr = roc_curve(y_test_lr, y_pred_prob_lr)\n",
    "\n",
    "fpr_rf, tpr_rf, thresholds_rf = roc_curve(y0_test, y_pred_proba_rf)\n",
    "\n",
    "auc1 = roc_auc_score(y_val,gbm.predict_proba(X_val, ntree_limit=gbm.best_ntree_limit)[:,1])\n",
    "plt.figure(figsize=(7,6))\n",
    "plt.plot(fpr, tpr, color='purple')\n",
    "plt.plot(fpr_l, tpr_l)\n",
    "plt.plot(fpr_rf, tpr_rf, color='red')\n",
    "plt.plot([0, 1], [0, 1], linestyle='--')\n",
    "plt.title('ROC curve', fontsize = 20)\n",
    "plt.xlabel('False Positive Rate', fontsize=15)\n",
    "plt.ylabel('True Positive Rate', fontsize=15)\n",
    "plt.grid(color='white')\n",
    "plt.legend([\"AUC XGBoost=%.3f\"%auc, \"AUC Logit=%.3f\"%AUC_score, \"AUC Random Forest=%.3f\"%AUC_rf])\n",
    "plt.show()"
   ]
  },
  {
   "cell_type": "markdown",
   "metadata": {},
   "source": [
    "Performance of all three models are pretty much the same with slightly better performance with XGBoost model"
   ]
  },
  {
   "cell_type": "code",
   "execution_count": 1094,
   "metadata": {
    "scrolled": false
   },
   "outputs": [
    {
     "data": {
      "image/png": "[encoded data removed]",
      "text/plain": [
       "<Figure size 540x360 with 2 Axes>"
      ]
     },
     "metadata": {},
     "output_type": "display_data"
    }
   ],
   "source": [
    "gbm_confusion = confusion_matrix(y_val, gbm.predict(X_val, ntree_limit=gbm.best_ntree_limit))\n",
    "plt.figure(dpi=90)\n",
    "sns.heatmap(gbm_confusion/np.sum(gbm_confusion), cmap=plt.cm.Blues, annot=True, square=True, fmt='.2%')\n",
    "\n",
    "\n",
    "plt.xlabel('Predicted')\n",
    "plt.ylabel('Actual')\n",
    "plt.title('XGBoost confusion matrix', fontsize=15);"
   ]
  },
  {
   "cell_type": "code",
   "execution_count": 1244,
   "metadata": {
    "scrolled": true
   },
   "outputs": [
    {
     "data": {
      "text/plain": [
       "array([[50744,  5826],\n",
       "       [ 3131,  1798]])"
      ]
     },
     "execution_count": 1244,
     "metadata": {},
     "output_type": "execute_result"
    }
   ],
   "source": [
    "gbm_confusion"
   ]
  },
  {
   "cell_type": "code",
   "execution_count": 1245,
   "metadata": {},
   "outputs": [
    {
     "data": {
      "text/plain": [
       "0.36477987421383645"
      ]
     },
     "execution_count": 1245,
     "metadata": {},
     "output_type": "execute_result"
    }
   ],
   "source": [
    "1798/(1798+3131)"
   ]
  },
  {
   "cell_type": "code",
   "execution_count": null,
   "metadata": {},
   "outputs": [],
   "source": []
  },
  {
   "cell_type": "code",
   "execution_count": 1093,
   "metadata": {},
   "outputs": [
    {
     "data": {
      "text/plain": [
       "0.286465386760137"
      ]
     },
     "execution_count": 1093,
     "metadata": {},
     "output_type": "execute_result"
    }
   ],
   "source": [
    "f1_score(y_val, gbm.predict(X_val, ntree_limit=gbm.best_ntree_limit))"
   ]
  },
  {
   "cell_type": "code",
   "execution_count": 1092,
   "metadata": {},
   "outputs": [
    {
     "data": {
      "text/plain": [
       "array([[50744,  5826],\n",
       "       [ 3131,  1798]])"
      ]
     },
     "execution_count": 1092,
     "metadata": {},
     "output_type": "execute_result"
    }
   ],
   "source": [
    "gbm_confusion"
   ]
  },
  {
   "cell_type": "code",
   "execution_count": null,
   "metadata": {},
   "outputs": [],
   "source": []
  },
  {
   "cell_type": "code",
   "execution_count": null,
   "metadata": {},
   "outputs": [],
   "source": [
    "## XGBoost model works best with:\n",
    "# f1 score = 0.286\n",
    "# AUC = 0.744"
   ]
  },
  {
   "cell_type": "code",
   "execution_count": null,
   "metadata": {},
   "outputs": [],
   "source": []
  },
  {
   "cell_type": "code",
   "execution_count": null,
   "metadata": {},
   "outputs": [],
   "source": []
  },
  {
   "cell_type": "code",
   "execution_count": null,
   "metadata": {},
   "outputs": [],
   "source": []
  }
 ],
 "metadata": {
  "kernelspec": {
   "display_name": "Python 3",
   "language": "python",
   "name": "python3"
  },
  "language_info": {
   "codemirror_mode": {
    "name": "ipython",
    "version": 3
   },
   "file_extension": ".py",
   "mimetype": "text/x-python",
   "name": "python",
   "nbconvert_exporter": "python",
   "pygments_lexer": "ipython3",
   "version": "3.7.7"
  }
 },
 "nbformat": 4,
 "nbformat_minor": 4
}
